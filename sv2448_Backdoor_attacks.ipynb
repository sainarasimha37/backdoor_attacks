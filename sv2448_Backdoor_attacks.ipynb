{
  "nbformat": 4,
  "nbformat_minor": 0,
  "metadata": {
    "colab": {
      "provenance": []
    },
    "kernelspec": {
      "name": "python3",
      "display_name": "Python 3"
    },
    "language_info": {
      "name": "python"
    }
  },
  "cells": [
    {
      "cell_type": "code",
      "execution_count": null,
      "metadata": {
        "colab": {
          "base_uri": "https://localhost:8080/"
        },
        "id": "Yf30uOVFUEiu",
        "outputId": "49500937-6a27-41f3-d7e8-f20d46c444b8"
      },
      "outputs": [
        {
          "output_type": "stream",
          "name": "stdout",
          "text": [
            "Mounted at /content/drive\n"
          ]
        }
      ],
      "source": [
        "import matplotlib.pyplot as plt\n",
        "import numpy as np\n",
        "import tensorflow as tf\n",
        "import h5py\n",
        "from tqdm import tqdm\n",
        "\n",
        "from google.colab import drive\n",
        "drive.mount('/content/drive')"
      ]
    },
    {
      "cell_type": "code",
      "source": [
        "clean_data_filepath = '/content/drive/MyDrive/Lab3/valid.h5'\n",
        "poisoned_data_filepath = '/content/drive/MyDrive/Lab3/bd_valid.h5'\n",
        "model_filepath = '/content/drive/MyDrive/Lab3/bd_net.h5'"
      ],
      "metadata": {
        "id": "dIRAmvWBVGyT"
      },
      "execution_count": null,
      "outputs": []
    },
    {
      "cell_type": "code",
      "source": [
        "def load_data(filepath):\n",
        "    # Open the HDF5 file in read-only mode\n",
        "    data = h5py.File(filepath, 'r')\n",
        "\n",
        "    # Load input features (data) and corresponding labels from the HDF5 file\n",
        "    input_data = np.array(data['data'])\n",
        "    labels = np.array(data['label'])\n",
        "\n",
        "    # Transpose the input data to the required format (assuming it's in NHWC format)\n",
        "    input_data = input_data.transpose((0, 2, 3, 1))\n",
        "\n",
        "    return input_data, labels\n",
        "\n",
        "def main():\n",
        "    # Load clean test data and labels\n",
        "    clean_x_test, clean_y_test = load_data(clean_data_filepath)\n",
        "\n",
        "    # Load poisoned test data and labels\n",
        "    poisoned_x_test, poisoned_y_test = load_data(poisoned_data_filepath)\n",
        "\n",
        "    # Load the pre-trained model\n",
        "    model = keras.models.load_model(model_filepath)\n",
        "\n",
        "    # Predictions on clean test data\n",
        "    clean_predictions = np.argmax(model.predict(clean_x_test), axis=1)\n",
        "\n",
        "    # Calculate clean classification accuracy\n",
        "    clean_accuracy = np.mean(np.equal(clean_predictions, clean_y_test)) * 100\n",
        "    print('Clean Classification accuracy:', clean_accuracy)\n",
        "\n",
        "    # Predictions on poisoned test data\n",
        "    poisoned_predictions = np.argmax(model.predict(poisoned_x_test), axis=1)\n",
        "\n",
        "    # Calculate Attack Success Rate (ASR)\n",
        "    asr = np.mean(np.equal(poisoned_predictions, poisoned_y_test)) * 100\n",
        "    print('Attack Success Rate:', asr)\n",
        "\n",
        "if __name__ == '__main__':\n",
        "    main()"
      ],
      "metadata": {
        "colab": {
          "base_uri": "https://localhost:8080/"
        },
        "id": "pWqP650xSx_u",
        "outputId": "0f99a2a6-98ac-4ce5-c0eb-5c4ba6d274d4"
      },
      "execution_count": null,
      "outputs": [
        {
          "output_type": "stream",
          "name": "stderr",
          "text": [
            "WARNING:tensorflow:No training configuration found in the save file, so the model was *not* compiled. Compile it manually.\n"
          ]
        },
        {
          "output_type": "stream",
          "name": "stdout",
          "text": [
            "361/361 [==============================] - 9s 25ms/step\n",
            "Clean Classification accuracy: 94.344851476574\n",
            "361/361 [==============================] - 12s 32ms/step\n",
            "Attack Success Rate: 99.9913397419243\n"
          ]
        }
      ]
    },
    {
      "cell_type": "code",
      "source": [
        "# Function to load data from an HDF5 file\n",
        "def load_data(file_path):\n",
        "    # Open the HDF5 file in read-only mode\n",
        "    data = h5py.File(file_path, 'r')\n",
        "\n",
        "    # Extract input features (data) and corresponding labels from the HDF5 file\n",
        "    input_data = np.array(data['data'])\n",
        "    labels = np.array(data['label'])\n",
        "\n",
        "    # Transpose the input data to the required format (assuming it's in NHWC format)\n",
        "    input_data = input_data.transpose((0, 2, 3, 1))\n",
        "\n",
        "    # Return the loaded input data and labels\n",
        "    return input_data, labels"
      ],
      "metadata": {
        "id": "uCskqKq5Yi4E"
      },
      "execution_count": null,
      "outputs": []
    },
    {
      "cell_type": "code",
      "source": [
        "# Load model\n",
        "model = tf.keras.models.load_model(model_filepath)\n",
        "print(model.summary())"
      ],
      "metadata": {
        "colab": {
          "base_uri": "https://localhost:8080/"
        },
        "id": "a9ZE-19yYzaC",
        "outputId": "52049e33-38ac-4606-acc0-08d3933f80c3"
      },
      "execution_count": null,
      "outputs": [
        {
          "output_type": "stream",
          "name": "stdout",
          "text": [
            "Model: \"model_1\"\n",
            "__________________________________________________________________________________________________\n",
            " Layer (type)                Output Shape                 Param #   Connected to                  \n",
            "==================================================================================================\n",
            " input (InputLayer)          [(None, 55, 47, 3)]          0         []                            \n",
            "                                                                                                  \n",
            " conv_1 (Conv2D)             (None, 52, 44, 20)           980       ['input[0][0]']               \n",
            "                                                                                                  \n",
            " pool_1 (MaxPooling2D)       (None, 26, 22, 20)           0         ['conv_1[0][0]']              \n",
            "                                                                                                  \n",
            " conv_2 (Conv2D)             (None, 24, 20, 40)           7240      ['pool_1[0][0]']              \n",
            "                                                                                                  \n",
            " pool_2 (MaxPooling2D)       (None, 12, 10, 40)           0         ['conv_2[0][0]']              \n",
            "                                                                                                  \n",
            " conv_3 (Conv2D)             (None, 10, 8, 60)            21660     ['pool_2[0][0]']              \n",
            "                                                                                                  \n",
            " pool_3 (MaxPooling2D)       (None, 5, 4, 60)             0         ['conv_3[0][0]']              \n",
            "                                                                                                  \n",
            " conv_4 (Conv2D)             (None, 4, 3, 80)             19280     ['pool_3[0][0]']              \n",
            "                                                                                                  \n",
            " flatten_1 (Flatten)         (None, 1200)                 0         ['pool_3[0][0]']              \n",
            "                                                                                                  \n",
            " flatten_2 (Flatten)         (None, 960)                  0         ['conv_4[0][0]']              \n",
            "                                                                                                  \n",
            " fc_1 (Dense)                (None, 160)                  192160    ['flatten_1[0][0]']           \n",
            "                                                                                                  \n",
            " fc_2 (Dense)                (None, 160)                  153760    ['flatten_2[0][0]']           \n",
            "                                                                                                  \n",
            " add_1 (Add)                 (None, 160)                  0         ['fc_1[0][0]',                \n",
            "                                                                     'fc_2[0][0]']                \n",
            "                                                                                                  \n",
            " activation_1 (Activation)   (None, 160)                  0         ['add_1[0][0]']               \n",
            "                                                                                                  \n",
            " output (Dense)              (None, 1283)                 206563    ['activation_1[0][0]']        \n",
            "                                                                                                  \n",
            "==================================================================================================\n",
            "Total params: 601643 (2.30 MB)\n",
            "Trainable params: 601643 (2.30 MB)\n",
            "Non-trainable params: 0 (0.00 Byte)\n",
            "__________________________________________________________________________________________________\n",
            "None\n"
          ]
        }
      ]
    },
    {
      "cell_type": "code",
      "source": [
        "# Display random clean images from loaded data\n",
        "clean_images, clean_labels = load_data(clean_data_filepath)\n",
        "\n",
        "# Create a figure to display the images\n",
        "figure = plt.figure(figsize=(10, 10))\n",
        "\n",
        "# Define the number of columns and rows for the grid\n",
        "num_cols, num_rows = 3, 3\n",
        "\n",
        "# Iterate over the grid and display random clean images\n",
        "for i in range(1, num_cols * num_rows + 1):\n",
        "    # Generate a random index to select a random image\n",
        "    random_index = np.random.randint(clean_images.shape[0], size=1)\n",
        "\n",
        "    # Extract the random image and its corresponding label\n",
        "    image, label = (clean_images[random_index], clean_labels[random_index])\n",
        "\n",
        "    # Add a subplot to the figure\n",
        "    figure.add_subplot(num_rows, num_cols, i)\n",
        "\n",
        "    # Set the title of the subplot with the true label\n",
        "    plt.title(\"True label: {}\".format(label))\n",
        "\n",
        "    # Turn off axis for cleaner display\n",
        "    plt.axis(\"off\")\n",
        "\n",
        "    # Display the image (assuming it's in the range [0, 255])\n",
        "    plt.imshow(image[0] / 255)\n",
        "\n",
        "# Show the figure with the displayed images\n",
        "plt.show()\n"
      ],
      "metadata": {
        "colab": {
          "base_uri": "https://localhost:8080/",
          "height": 829
        },
        "id": "OeWs8vyHY8vw",
        "outputId": "8f35c3b2-5838-475c-b5c5-4d22f646f4d8"
      },
      "execution_count": null,
      "outputs": [
        {
          "output_type": "display_data",
          "data": {
            "text/plain": [
              "<Figure size 1000x1000 with 9 Axes>"
            ],
            "image/png": "[encoded data removed]"
          },
          "metadata": {}
        }
      ]
    },
    {
      "cell_type": "code",
      "source": [
        "# Display random poisoned images\n",
        "poisoned_images, poisoned_labels = load_data(poisoned_data_filepath)  # Load poisoned images and labels\n",
        "figure = plt.figure(figsize=(10, 10))  # Create a figure to display the images\n",
        "num_rows, num_cols = 3, 3  # Number of rows and columns for the display\n",
        "\n",
        "# Loop to display a random selection of poisoned images\n",
        "for i in range(1, num_cols * num_rows + 1):\n",
        "    idx = np.random.randint(poisoned_images.shape[0], size=1)  # Randomly select an index\n",
        "    img, label = (poisoned_images[idx], poisoned_labels[idx])  # Get the image and label\n",
        "    figure.add_subplot(num_rows, num_cols, i)  # Add a subplot to the figure\n",
        "    plt.title(\"True label: {}\".format(label))  # Set the title with the true label\n",
        "    plt.axis(\"off\")  # Turn off axis labels\n",
        "    plt.imshow(img[0] / 255)  # Display the image (assuming pixel values are in the range [0, 255])\n",
        "\n",
        "plt.show()  # Show the figure with the displayed images\n"
      ],
      "metadata": {
        "colab": {
          "base_uri": "https://localhost:8080/",
          "height": 829
        },
        "id": "M59qomYBY_ex",
        "outputId": "39858322-7af0-4d29-fc9f-48de3e722815"
      },
      "execution_count": null,
      "outputs": [
        {
          "output_type": "display_data",
          "data": {
            "text/plain": [
              "<Figure size 1000x1000 with 9 Axes>"
            ],
            "image/png": "[encoded data removed]"
          },
          "metadata": {}
        }
      ]
    },
    {
      "cell_type": "code",
      "source": [
        "# Clear the session\n",
        "tf.keras.backend.clear_session()"
      ],
      "metadata": {
        "id": "NigSv4rmZCBz"
      },
      "execution_count": null,
      "outputs": []
    },
    {
      "cell_type": "code",
      "source": [
        "# Load test data\n",
        "cl_x_test, cl_y_test = load_data(clean_data_filepath)\n",
        "bd_x_test, bd_y_test = load_data(poisoned_data_filepath)"
      ],
      "metadata": {
        "id": "ltf5Sp-EZGcS"
      },
      "execution_count": null,
      "outputs": []
    },
    {
      "cell_type": "code",
      "source": [
        "# Constants - Accuracy from the above training:\n",
        "clean_data_accuracy = 98.64899974019225\n",
        "model_copy = tf.keras.models.clone_model(model)\n",
        "model_copy.set_weights(model.get_weights())\n",
        "prune_indices = []\n",
        "clean_accuracies = []\n",
        "attack_success_rates = []\n",
        "saved_models = np.zeros(3, dtype=bool)"
      ],
      "metadata": {
        "id": "aqSRuFWkZJ8L"
      },
      "execution_count": null,
      "outputs": []
    },
    {
      "cell_type": "code",
      "source": [
        "# Pruning process\n",
        "\n",
        "# Get the output of the layer at index 5 in the model\n",
        "pruned_layer_output = model_copy.get_layer(index=5).output\n",
        "\n",
        "# Create a new model that outputs the layer's output\n",
        "pruned_intermediate_model = tf.keras.models.Model(inputs=model_copy.input, outputs=pruned_layer_output)\n",
        "\n",
        "# Predict using the intermediate model on clean test data\n",
        "pruned_intermediate_predictions = pruned_intermediate_model.predict(clean_x_test)\n",
        "\n",
        "# Calculate the mean across specified axes of the intermediate predictions\n",
        "mean_across_axes = np.mean(pruned_intermediate_predictions, axis=(0, 1, 2))\n",
        "\n",
        "# Sort indices based on the calculated means\n",
        "sorted_indices = np.argsort(mean_across_axes)\n",
        "\n",
        "# Get weights and biases of the layer at index 5\n",
        "pruned_weight_matrix = model_copy.layers[5].get_weights()[0]\n",
        "pruned_bias_vector = model_copy.layers[5].get_weights()[1]\n",
        "\n",
        "# Iterate through sorted channel indices and prune weights and biases\n",
        "for pruned_channel_index in tqdm(sorted_indices):\n",
        "    pruned_weight_matrix[:, :, :, pruned_channel_index] = 0\n",
        "    pruned_bias_vector[pruned_channel_index] = 0\n",
        "    model_copy.layers[5].set_weights([pruned_weight_matrix, pruned_bias_vector])\n",
        "\n",
        "    # Predict on clean data using the pruned model\n",
        "    pruned_clean_labels = np.argmax(model_copy.predict(clean_x_test), axis=1)\n",
        "    clean_accuracy_pruned = np.mean(np.equal(pruned_clean_labels, cl_y_test)) * 100\n",
        "\n",
        "    # Check accuracy drop thresholds and save models accordingly\n",
        "    if (clean_data_accuracy - clean_accuracy_pruned >= 2 and not saved_models[0]):\n",
        "        print(\"The accuracy drops at least 2%, now saving the model\")\n",
        "        model_copy.save('model_X=2.h5')\n",
        "        saved_models[0] = 1\n",
        "    if (clean_data_accuracy - clean_accuracy_pruned >= 4 and not saved_models[1]):\n",
        "        print(\"The accuracy drops at least 4%, now saving the model\")\n",
        "        model_copy.save('model_X=4.h5')\n",
        "        saved_models[1] = 1\n",
        "    if (clean_data_accuracy - clean_accuracy_pruned >= 10 and not saved_models[2]):\n",
        "        print(\"The accuracy drops at least 10%, now saving the model\")\n",
        "        model_copy.save('model_X=10.h5')\n",
        "        saved_models[2] = 1\n",
        "\n",
        "    # Append pruned accuracy to a list\n",
        "    pruned_clean_accuracies.append(clean_accuracy_pruned)\n",
        "\n",
        "    # Predict on poisoned data using the pruned model\n",
        "    pruned_bd_labels = np.argmax(model_copy.predict(bd_x_test), axis=1)\n",
        "\n",
        "    # Calculate attack success rate\n",
        "    asr_pruned = np.mean(np.equal(pruned_bd_labels, bd_y_test)) * 100\n",
        "\n",
        "    # Append attack success rate to a list\n",
        "    pruned_attack_success_rates.append(asr_pruned)\n",
        "\n",
        "    # Print results of pruning for each channel index\n",
        "    print()\n",
        "    print(\"Clean accuracy after pruning is: \", clean_accuracy_pruned)\n",
        "    print(\"Attack success rate after pruning is: \", asr_pruned)\n",
        "    print(\"Pruned channel index is: \", pruned_channel_index)\n",
        "\n",
        "    # Clear TensorFlow session\n",
        "    tf.keras.backend.clear_session()\n"
      ],
      "metadata": {
        "colab": {
          "base_uri": "https://localhost:8080/"
        },
        "id": "rmHuPD0LZM9Z",
        "outputId": "3238ad91-31ea-4bd9-bc8a-1f1f8ce4b1b1"
      },
      "execution_count": null,
      "outputs": [
        {
          "output_type": "stream",
          "name": "stdout",
          "text": [
            "361/361 [==============================] - 8s 20ms/step\n"
          ]
        },
        {
          "output_type": "stream",
          "name": "stderr",
          "text": [
            "\r  0%|          | 0/60 [00:00<?, ?it/s]"
          ]
        },
        {
          "output_type": "stream",
          "name": "stdout",
          "text": [
            "361/361 [==============================] - 10s 28ms/step\n",
            "361/361 [==============================] - 7s 21ms/step\n"
          ]
        },
        {
          "output_type": "stream",
          "name": "stderr",
          "text": [
            "\r  2%|▏         | 1/60 [00:30<29:30, 30.00s/it]"
          ]
        },
        {
          "output_type": "stream",
          "name": "stdout",
          "text": [
            "\n",
            "Clean accuracy is:  98.64899974019225\n",
            "Attack success rate is:  100.0\n",
            "Pruned channel index is:  0\n",
            "361/361 [==============================] - 11s 29ms/step\n",
            "361/361 [==============================] - 9s 25ms/step\n",
            "\n",
            "Clean accuracy is:  98.64899974019225\n",
            "Attack success rate is:  100.0\n",
            "Pruned channel index is:  26\n"
          ]
        },
        {
          "output_type": "stream",
          "name": "stderr",
          "text": [
            "\r  3%|▎         | 2/60 [01:01<30:00, 31.05s/it]"
          ]
        },
        {
          "output_type": "stream",
          "name": "stdout",
          "text": [
            "361/361 [==============================] - 11s 29ms/step\n",
            "361/361 [==============================] - 9s 24ms/step\n"
          ]
        },
        {
          "output_type": "stream",
          "name": "stderr",
          "text": [
            "\r  5%|▌         | 3/60 [01:23<25:22, 26.71s/it]"
          ]
        },
        {
          "output_type": "stream",
          "name": "stdout",
          "text": [
            "\n",
            "Clean accuracy is:  98.64899974019225\n",
            "Attack success rate is:  100.0\n",
            "Pruned channel index is:  27\n",
            "361/361 [==============================] - 9s 25ms/step\n",
            "361/361 [==============================] - 11s 29ms/step\n"
          ]
        },
        {
          "output_type": "stream",
          "name": "stderr",
          "text": [
            "\r  7%|▋         | 4/60 [01:46<23:34, 25.26s/it]"
          ]
        },
        {
          "output_type": "stream",
          "name": "stdout",
          "text": [
            "\n",
            "Clean accuracy is:  98.64899974019225\n",
            "Attack success rate is:  100.0\n",
            "Pruned channel index is:  30\n",
            "361/361 [==============================] - 7s 21ms/step\n",
            "361/361 [==============================] - 10s 28ms/step\n"
          ]
        },
        {
          "output_type": "stream",
          "name": "stderr",
          "text": [
            "\r  8%|▊         | 5/60 [02:16<24:45, 27.01s/it]"
          ]
        },
        {
          "output_type": "stream",
          "name": "stdout",
          "text": [
            "\n",
            "Clean accuracy is:  98.64899974019225\n",
            "Attack success rate is:  100.0\n",
            "Pruned channel index is:  31\n",
            "361/361 [==============================] - 8s 22ms/step\n",
            "361/361 [==============================] - 9s 24ms/step\n"
          ]
        },
        {
          "output_type": "stream",
          "name": "stderr",
          "text": [
            "\r 10%|█         | 6/60 [02:39<23:00, 25.57s/it]"
          ]
        },
        {
          "output_type": "stream",
          "name": "stdout",
          "text": [
            "\n",
            "Clean accuracy is:  98.64899974019225\n",
            "Attack success rate is:  100.0\n",
            "Pruned channel index is:  33\n",
            "361/361 [==============================] - 11s 29ms/step\n",
            "361/361 [==============================] - 7s 21ms/step\n"
          ]
        },
        {
          "output_type": "stream",
          "name": "stderr",
          "text": [
            "\r 12%|█▏        | 7/60 [03:01<21:45, 24.64s/it]"
          ]
        },
        {
          "output_type": "stream",
          "name": "stdout",
          "text": [
            "\n",
            "Clean accuracy is:  98.64899974019225\n",
            "Attack success rate is:  100.0\n",
            "Pruned channel index is:  34\n",
            "361/361 [==============================] - 8s 22ms/step\n",
            "361/361 [==============================] - 11s 29ms/step\n"
          ]
        },
        {
          "output_type": "stream",
          "name": "stderr",
          "text": [
            "\r 13%|█▎        | 8/60 [03:24<20:52, 24.09s/it]"
          ]
        },
        {
          "output_type": "stream",
          "name": "stdout",
          "text": [
            "\n",
            "Clean accuracy is:  98.64899974019225\n",
            "Attack success rate is:  100.0\n",
            "Pruned channel index is:  36\n",
            "361/361 [==============================] - 9s 24ms/step\n",
            "361/361 [==============================] - 9s 24ms/step\n"
          ]
        },
        {
          "output_type": "stream",
          "name": "stderr",
          "text": [
            "\r 15%|█▌        | 9/60 [03:44<19:20, 22.76s/it]"
          ]
        },
        {
          "output_type": "stream",
          "name": "stdout",
          "text": [
            "\n",
            "Clean accuracy is:  98.64899974019225\n",
            "Attack success rate is:  100.0\n",
            "Pruned channel index is:  37\n",
            "361/361 [==============================] - 10s 29ms/step\n",
            "361/361 [==============================] - 7s 20ms/step\n"
          ]
        },
        {
          "output_type": "stream",
          "name": "stderr",
          "text": [
            "\r 17%|█▋        | 10/60 [04:04<18:13, 21.87s/it]"
          ]
        },
        {
          "output_type": "stream",
          "name": "stdout",
          "text": [
            "\n",
            "Clean accuracy is:  98.64899974019225\n",
            "Attack success rate is:  100.0\n",
            "Pruned channel index is:  38\n",
            "361/361 [==============================] - 11s 29ms/step\n",
            "361/361 [==============================] - 8s 22ms/step\n"
          ]
        },
        {
          "output_type": "stream",
          "name": "stderr",
          "text": [
            "\r 18%|█▊        | 11/60 [04:37<20:34, 25.20s/it]"
          ]
        },
        {
          "output_type": "stream",
          "name": "stdout",
          "text": [
            "\n",
            "Clean accuracy is:  98.64899974019225\n",
            "Attack success rate is:  100.0\n",
            "Pruned channel index is:  25\n",
            "361/361 [==============================] - 10s 29ms/step\n",
            "361/361 [==============================] - 9s 25ms/step\n"
          ]
        },
        {
          "output_type": "stream",
          "name": "stderr",
          "text": [
            "\r 20%|██        | 12/60 [04:59<19:18, 24.14s/it]"
          ]
        },
        {
          "output_type": "stream",
          "name": "stdout",
          "text": [
            "\n",
            "Clean accuracy is:  98.64899974019225\n",
            "Attack success rate is:  100.0\n",
            "Pruned channel index is:  39\n",
            "361/361 [==============================] - 8s 23ms/step\n",
            "361/361 [==============================] - 11s 29ms/step\n"
          ]
        },
        {
          "output_type": "stream",
          "name": "stderr",
          "text": [
            "\r 22%|██▏       | 13/60 [05:20<18:13, 23.26s/it]"
          ]
        },
        {
          "output_type": "stream",
          "name": "stdout",
          "text": [
            "\n",
            "Clean accuracy is:  98.64899974019225\n",
            "Attack success rate is:  100.0\n",
            "Pruned channel index is:  41\n",
            "361/361 [==============================] - 7s 21ms/step\n",
            "361/361 [==============================] - 11s 29ms/step\n"
          ]
        },
        {
          "output_type": "stream",
          "name": "stderr",
          "text": [
            "\r 23%|██▎       | 14/60 [05:50<19:21, 25.24s/it]"
          ]
        },
        {
          "output_type": "stream",
          "name": "stdout",
          "text": [
            "\n",
            "Clean accuracy is:  98.64899974019225\n",
            "Attack success rate is:  100.0\n",
            "Pruned channel index is:  44\n",
            "361/361 [==============================] - 7s 20ms/step\n",
            "361/361 [==============================] - 11s 29ms/step\n"
          ]
        },
        {
          "output_type": "stream",
          "name": "stderr",
          "text": [
            "\r 25%|██▌       | 15/60 [06:10<17:53, 23.85s/it]"
          ]
        },
        {
          "output_type": "stream",
          "name": "stdout",
          "text": [
            "\n",
            "Clean accuracy is:  98.64899974019225\n",
            "Attack success rate is:  100.0\n",
            "Pruned channel index is:  45\n",
            "361/361 [==============================] - 8s 21ms/step\n",
            "361/361 [==============================] - 8s 21ms/step\n"
          ]
        },
        {
          "output_type": "stream",
          "name": "stderr",
          "text": [
            "\r 27%|██▋       | 16/60 [06:30<16:40, 22.74s/it]"
          ]
        },
        {
          "output_type": "stream",
          "name": "stdout",
          "text": [
            "\n",
            "Clean accuracy is:  98.64899974019225\n",
            "Attack success rate is:  100.0\n",
            "Pruned channel index is:  47\n",
            "361/361 [==============================] - 11s 29ms/step\n",
            "361/361 [==============================] - 7s 21ms/step\n"
          ]
        },
        {
          "output_type": "stream",
          "name": "stderr",
          "text": [
            "\r 28%|██▊       | 17/60 [06:50<15:42, 21.92s/it]"
          ]
        },
        {
          "output_type": "stream",
          "name": "stdout",
          "text": [
            "\n",
            "Clean accuracy is:  98.64899974019225\n",
            "Attack success rate is:  100.0\n",
            "Pruned channel index is:  48\n",
            "361/361 [==============================] - 10s 28ms/step\n",
            "361/361 [==============================] - 8s 21ms/step\n"
          ]
        },
        {
          "output_type": "stream",
          "name": "stderr",
          "text": [
            "\r 30%|███       | 18/60 [07:23<17:37, 25.18s/it]"
          ]
        },
        {
          "output_type": "stream",
          "name": "stdout",
          "text": [
            "\n",
            "Clean accuracy is:  98.64899974019225\n",
            "Attack success rate is:  100.0\n",
            "Pruned channel index is:  49\n",
            "361/361 [==============================] - 8s 23ms/step\n",
            "361/361 [==============================] - 11s 29ms/step\n"
          ]
        },
        {
          "output_type": "stream",
          "name": "stderr",
          "text": [
            "\r 32%|███▏      | 19/60 [07:45<16:33, 24.22s/it]"
          ]
        },
        {
          "output_type": "stream",
          "name": "stdout",
          "text": [
            "\n",
            "Clean accuracy is:  98.64899974019225\n",
            "Attack success rate is:  100.0\n",
            "Pruned channel index is:  50\n",
            "361/361 [==============================] - 7s 21ms/step\n",
            "361/361 [==============================] - 10s 29ms/step\n"
          ]
        },
        {
          "output_type": "stream",
          "name": "stderr",
          "text": [
            "\r 33%|███▎      | 20/60 [08:15<17:17, 25.94s/it]"
          ]
        },
        {
          "output_type": "stream",
          "name": "stdout",
          "text": [
            "\n",
            "Clean accuracy is:  98.64899974019225\n",
            "Attack success rate is:  100.0\n",
            "Pruned channel index is:  53\n",
            "361/361 [==============================] - 7s 21ms/step\n",
            "361/361 [==============================] - 9s 26ms/step\n"
          ]
        },
        {
          "output_type": "stream",
          "name": "stderr",
          "text": [
            "\r 35%|███▌      | 21/60 [08:37<16:07, 24.82s/it]"
          ]
        },
        {
          "output_type": "stream",
          "name": "stdout",
          "text": [
            "\n",
            "Clean accuracy is:  98.64899974019225\n",
            "Attack success rate is:  100.0\n",
            "Pruned channel index is:  55\n",
            "361/361 [==============================] - 10s 28ms/step\n",
            "361/361 [==============================] - 10s 28ms/step\n"
          ]
        },
        {
          "output_type": "stream",
          "name": "stderr",
          "text": [
            "\r 37%|███▋      | 22/60 [09:21<19:13, 30.35s/it]"
          ]
        },
        {
          "output_type": "stream",
          "name": "stdout",
          "text": [
            "\n",
            "Clean accuracy is:  98.64899974019225\n",
            "Attack success rate is:  100.0\n",
            "Pruned channel index is:  40\n",
            "361/361 [==============================] - 8s 21ms/step\n",
            "361/361 [==============================] - 10s 29ms/step\n",
            "\n",
            "Clean accuracy is:  98.64899974019225\n",
            "Attack success rate is:  100.0\n",
            "Pruned channel index is:  24\n"
          ]
        },
        {
          "output_type": "stream",
          "name": "stderr",
          "text": [
            "\r 38%|███▊      | 23/60 [09:41<16:55, 27.44s/it]"
          ]
        },
        {
          "output_type": "stream",
          "name": "stdout",
          "text": [
            "361/361 [==============================] - 9s 26ms/step\n",
            "361/361 [==============================] - 8s 22ms/step\n"
          ]
        },
        {
          "output_type": "stream",
          "name": "stderr",
          "text": [
            "\r 40%|████      | 24/60 [10:04<15:35, 25.98s/it]"
          ]
        },
        {
          "output_type": "stream",
          "name": "stdout",
          "text": [
            "\n",
            "Clean accuracy is:  98.64899974019225\n",
            "Attack success rate is:  100.0\n",
            "Pruned channel index is:  59\n",
            "361/361 [==============================] - 11s 29ms/step\n",
            "361/361 [==============================] - 12s 34ms/step\n"
          ]
        },
        {
          "output_type": "stream",
          "name": "stderr",
          "text": [
            "\r 42%|████▏     | 25/60 [10:29<15:02, 25.77s/it]"
          ]
        },
        {
          "output_type": "stream",
          "name": "stdout",
          "text": [
            "\n",
            "Clean accuracy is:  98.64899974019225\n",
            "Attack success rate is:  100.0\n",
            "Pruned channel index is:  9\n",
            "361/361 [==============================] - 8s 21ms/step\n",
            "361/361 [==============================] - 9s 25ms/step\n"
          ]
        },
        {
          "output_type": "stream",
          "name": "stderr",
          "text": [
            "\r 43%|████▎     | 26/60 [10:51<13:53, 24.52s/it]"
          ]
        },
        {
          "output_type": "stream",
          "name": "stdout",
          "text": [
            "\n",
            "Clean accuracy is:  98.64899974019225\n",
            "Attack success rate is:  100.0\n",
            "Pruned channel index is:  2\n",
            "361/361 [==============================] - 10s 28ms/step\n",
            "361/361 [==============================] - 8s 21ms/step\n"
          ]
        },
        {
          "output_type": "stream",
          "name": "stderr",
          "text": [
            "\r 45%|████▌     | 27/60 [11:13<13:11, 23.97s/it]"
          ]
        },
        {
          "output_type": "stream",
          "name": "stdout",
          "text": [
            "\n",
            "Clean accuracy is:  98.64899974019225\n",
            "Attack success rate is:  100.0\n",
            "Pruned channel index is:  12\n",
            "361/361 [==============================] - 9s 26ms/step\n",
            "361/361 [==============================] - 10s 28ms/step\n"
          ]
        },
        {
          "output_type": "stream",
          "name": "stderr",
          "text": [
            "\r 47%|████▋     | 28/60 [11:36<12:33, 23.54s/it]"
          ]
        },
        {
          "output_type": "stream",
          "name": "stdout",
          "text": [
            "\n",
            "Clean accuracy is:  98.64899974019225\n",
            "Attack success rate is:  100.0\n",
            "Pruned channel index is:  13\n",
            "361/361 [==============================] - 8s 21ms/step\n",
            "361/361 [==============================] - 9s 26ms/step\n"
          ]
        },
        {
          "output_type": "stream",
          "name": "stderr",
          "text": [
            "\r 48%|████▊     | 29/60 [11:59<12:02, 23.30s/it]"
          ]
        },
        {
          "output_type": "stream",
          "name": "stdout",
          "text": [
            "\n",
            "Clean accuracy is:  98.64899974019225\n",
            "Attack success rate is:  100.0\n",
            "Pruned channel index is:  17\n",
            "361/361 [==============================] - 11s 29ms/step\n",
            "361/361 [==============================] - 7s 21ms/step\n"
          ]
        },
        {
          "output_type": "stream",
          "name": "stderr",
          "text": [
            "\r 50%|█████     | 30/60 [12:21<11:33, 23.11s/it]"
          ]
        },
        {
          "output_type": "stream",
          "name": "stdout",
          "text": [
            "\n",
            "Clean accuracy is:  98.64899974019225\n",
            "Attack success rate is:  100.0\n",
            "Pruned channel index is:  14\n",
            "361/361 [==============================] - 9s 25ms/step\n",
            "361/361 [==============================] - 11s 29ms/step\n"
          ]
        },
        {
          "output_type": "stream",
          "name": "stderr",
          "text": [
            "\r 52%|█████▏    | 31/60 [12:54<12:37, 26.12s/it]"
          ]
        },
        {
          "output_type": "stream",
          "name": "stdout",
          "text": [
            "\n",
            "Clean accuracy is:  98.64899974019225\n",
            "Attack success rate is:  100.0\n",
            "Pruned channel index is:  15\n",
            "361/361 [==============================] - 9s 25ms/step\n",
            "361/361 [==============================] - 10s 28ms/step\n"
          ]
        },
        {
          "output_type": "stream",
          "name": "stderr",
          "text": [
            "\r 53%|█████▎    | 32/60 [13:26<13:00, 27.87s/it]"
          ]
        },
        {
          "output_type": "stream",
          "name": "stdout",
          "text": [
            "\n",
            "Clean accuracy is:  98.64899974019225\n",
            "Attack success rate is:  100.0\n",
            "Pruned channel index is:  23\n",
            "361/361 [==============================] - 10s 28ms/step\n",
            "361/361 [==============================] - 9s 25ms/step\n"
          ]
        },
        {
          "output_type": "stream",
          "name": "stderr",
          "text": [
            "\r 55%|█████▌    | 33/60 [13:49<11:48, 26.24s/it]"
          ]
        },
        {
          "output_type": "stream",
          "name": "stdout",
          "text": [
            "\n",
            "Clean accuracy is:  98.64899974019225\n",
            "Attack success rate is:  100.0\n",
            "Pruned channel index is:  6\n",
            "361/361 [==============================] - 8s 21ms/step\n",
            "361/361 [==============================] - 10s 27ms/step\n"
          ]
        },
        {
          "output_type": "stream",
          "name": "stderr",
          "text": [
            "\r 57%|█████▋    | 34/60 [14:12<10:56, 25.25s/it]"
          ]
        },
        {
          "output_type": "stream",
          "name": "stdout",
          "text": [
            "\n",
            "Clean accuracy is:  98.64033948211657\n",
            "Attack success rate is:  100.0\n",
            "Pruned channel index is:  51\n",
            "361/361 [==============================] - 10s 28ms/step\n",
            "361/361 [==============================] - 10s 29ms/step\n"
          ]
        },
        {
          "output_type": "stream",
          "name": "stderr",
          "text": [
            "\r 58%|█████▊    | 35/60 [14:45<11:27, 27.50s/it]"
          ]
        },
        {
          "output_type": "stream",
          "name": "stdout",
          "text": [
            "\n",
            "Clean accuracy is:  98.64033948211657\n",
            "Attack success rate is:  100.0\n",
            "Pruned channel index is:  32\n",
            "361/361 [==============================] - 9s 25ms/step\n",
            "361/361 [==============================] - 8s 23ms/step\n"
          ]
        },
        {
          "output_type": "stream",
          "name": "stderr",
          "text": [
            "\r 60%|██████    | 36/60 [15:06<10:17, 25.73s/it]"
          ]
        },
        {
          "output_type": "stream",
          "name": "stdout",
          "text": [
            "\n",
            "Clean accuracy is:  98.63167922404088\n",
            "Attack success rate is:  100.0\n",
            "Pruned channel index is:  22\n",
            "361/361 [==============================] - 11s 30ms/step\n",
            "361/361 [==============================] - 8s 22ms/step\n"
          ]
        },
        {
          "output_type": "stream",
          "name": "stderr",
          "text": [
            "\r 62%|██████▏   | 37/60 [15:39<10:40, 27.86s/it]"
          ]
        },
        {
          "output_type": "stream",
          "name": "stdout",
          "text": [
            "\n",
            "Clean accuracy is:  98.65765999826795\n",
            "Attack success rate is:  100.0\n",
            "Pruned channel index is:  21\n",
            "361/361 [==============================] - 11s 29ms/step\n",
            "361/361 [==============================] - 9s 25ms/step\n"
          ]
        },
        {
          "output_type": "stream",
          "name": "stderr",
          "text": [
            "\r 63%|██████▎   | 38/60 [16:02<09:38, 26.31s/it]"
          ]
        },
        {
          "output_type": "stream",
          "name": "stdout",
          "text": [
            "\n",
            "Clean accuracy is:  98.64899974019225\n",
            "Attack success rate is:  100.0\n",
            "Pruned channel index is:  20\n",
            "361/361 [==============================] - 8s 21ms/step\n",
            "361/361 [==============================] - 10s 27ms/step\n"
          ]
        },
        {
          "output_type": "stream",
          "name": "stderr",
          "text": [
            "\r 65%|██████▌   | 39/60 [16:25<08:50, 25.29s/it]"
          ]
        },
        {
          "output_type": "stream",
          "name": "stdout",
          "text": [
            "\n",
            "Clean accuracy is:  98.6056984498138\n",
            "Attack success rate is:  100.0\n",
            "Pruned channel index is:  19\n",
            "361/361 [==============================] - 10s 27ms/step\n",
            "361/361 [==============================] - 8s 22ms/step\n"
          ]
        },
        {
          "output_type": "stream",
          "name": "stderr",
          "text": [
            "\r 67%|██████▋   | 40/60 [16:45<07:58, 23.94s/it]"
          ]
        },
        {
          "output_type": "stream",
          "name": "stdout",
          "text": [
            "\n",
            "Clean accuracy is:  98.57105741751104\n",
            "Attack success rate is:  100.0\n",
            "Pruned channel index is:  43\n",
            "361/361 [==============================] - 11s 29ms/step\n",
            "361/361 [==============================] - 9s 24ms/step\n"
          ]
        },
        {
          "output_type": "stream",
          "name": "stderr",
          "text": [
            "\r 68%|██████▊   | 41/60 [17:18<08:25, 26.60s/it]"
          ]
        },
        {
          "output_type": "stream",
          "name": "stdout",
          "text": [
            "\n",
            "Clean accuracy is:  98.25062786871048\n",
            "Attack success rate is:  100.0\n",
            "Pruned channel index is:  3\n",
            "361/361 [==============================] - 11s 29ms/step\n",
            "361/361 [==============================] - 9s 24ms/step\n"
          ]
        },
        {
          "output_type": "stream",
          "name": "stderr",
          "text": [
            "\r 70%|███████   | 42/60 [17:51<08:32, 28.47s/it]"
          ]
        },
        {
          "output_type": "stream",
          "name": "stdout",
          "text": [
            "\n",
            "Clean accuracy is:  98.19000606218066\n",
            "Attack success rate is:  100.0\n",
            "Pruned channel index is:  58\n",
            "361/361 [==============================] - 11s 30ms/step\n",
            "361/361 [==============================] - 7s 21ms/step\n"
          ]
        },
        {
          "output_type": "stream",
          "name": "stderr",
          "text": [
            "\r 72%|███████▏  | 43/60 [18:14<07:36, 26.87s/it]"
          ]
        },
        {
          "output_type": "stream",
          "name": "stdout",
          "text": [
            "\n",
            "Clean accuracy is:  97.65307006148784\n",
            "Attack success rate is:  100.0\n",
            "Pruned channel index is:  42\n",
            "361/361 [==============================] - 8s 22ms/step\n",
            "361/361 [==============================] - 11s 29ms/step\n"
          ]
        },
        {
          "output_type": "stream",
          "name": "stderr",
          "text": [
            "\r 73%|███████▎  | 44/60 [18:45<07:28, 28.03s/it]"
          ]
        },
        {
          "output_type": "stream",
          "name": "stdout",
          "text": [
            "\n",
            "Clean accuracy is:  97.50584567420108\n",
            "Attack success rate is:  100.0\n",
            "Pruned channel index is:  1\n",
            "361/361 [==============================] - 9s 26ms/step\n"
          ]
        },
        {
          "output_type": "stream",
          "name": "stderr",
          "text": [
            "/usr/local/lib/python3.10/dist-packages/keras/src/engine/training.py:3079: UserWarning: You are saving your model as an HDF5 file via `model.save()`. This file format is considered legacy. We recommend using instead the native Keras format, e.g. `model.save('my_model.keras')`.\n",
            "  saving_api.save_model(\n",
            "WARNING:tensorflow:Compiled the loaded model, but the compiled metrics have yet to be built. `model.compile_metrics` will be empty until you train or evaluate the model.\n"
          ]
        },
        {
          "output_type": "stream",
          "name": "stdout",
          "text": [
            "The accuracy drops at least 2%, now saving the model\n",
            "361/361 [==============================] - 12s 32ms/step\n"
          ]
        },
        {
          "output_type": "stream",
          "name": "stderr",
          "text": [
            "\r 75%|███████▌  | 45/60 [19:09<06:40, 26.72s/it]"
          ]
        },
        {
          "output_type": "stream",
          "name": "stdout",
          "text": [
            "\n",
            "Clean accuracy is:  95.75647354291158\n",
            "Attack success rate is:  100.0\n",
            "Pruned channel index is:  29\n",
            "361/361 [==============================] - 8s 21ms/step\n",
            "361/361 [==============================] - 11s 29ms/step\n"
          ]
        },
        {
          "output_type": "stream",
          "name": "stderr",
          "text": [
            "\r 77%|███████▋  | 46/60 [19:40<06:34, 28.15s/it]"
          ]
        },
        {
          "output_type": "stream",
          "name": "stdout",
          "text": [
            "\n",
            "Clean accuracy is:  95.20221702606739\n",
            "Attack success rate is:  99.9913397419243\n",
            "Pruned channel index is:  16\n",
            "361/361 [==============================] - 8s 21ms/step\n",
            "361/361 [==============================] - 10s 27ms/step\n"
          ]
        },
        {
          "output_type": "stream",
          "name": "stderr",
          "text": [
            "\r 78%|███████▊  | 47/60 [20:03<05:44, 26.52s/it]"
          ]
        },
        {
          "output_type": "stream",
          "name": "stdout",
          "text": [
            "\n",
            "Clean accuracy is:  94.77786438035854\n",
            "Attack success rate is:  100.0\n",
            "Pruned channel index is:  5\n",
            "361/361 [==============================] - 9s 26ms/step\n"
          ]
        },
        {
          "output_type": "stream",
          "name": "stderr",
          "text": [
            "WARNING:tensorflow:Compiled the loaded model, but the compiled metrics have yet to be built. `model.compile_metrics` will be empty until you train or evaluate the model.\n"
          ]
        },
        {
          "output_type": "stream",
          "name": "stdout",
          "text": [
            "The accuracy drops at least 4%, now saving the model\n",
            "361/361 [==============================] - 8s 21ms/step\n"
          ]
        },
        {
          "output_type": "stream",
          "name": "stderr",
          "text": [
            "\r 80%|████████  | 48/60 [20:25<05:04, 25.38s/it]"
          ]
        },
        {
          "output_type": "stream",
          "name": "stdout",
          "text": [
            "\n",
            "Clean accuracy is:  94.344851476574\n",
            "Attack success rate is:  99.9913397419243\n",
            "Pruned channel index is:  56\n",
            "361/361 [==============================] - 10s 27ms/step\n",
            "361/361 [==============================] - 10s 27ms/step\n"
          ]
        },
        {
          "output_type": "stream",
          "name": "stderr",
          "text": [
            "\r 82%|████████▏ | 49/60 [20:48<04:29, 24.54s/it]"
          ]
        },
        {
          "output_type": "stream",
          "name": "stdout",
          "text": [
            "\n",
            "Clean accuracy is:  93.85121676625964\n",
            "Attack success rate is:  99.98267948384861\n",
            "Pruned channel index is:  8\n",
            "361/361 [==============================] - 8s 21ms/step\n",
            "361/361 [==============================] - 10s 27ms/step\n"
          ]
        },
        {
          "output_type": "stream",
          "name": "stderr",
          "text": [
            "\r 83%|████████▎ | 50/60 [21:11<03:59, 23.96s/it]"
          ]
        },
        {
          "output_type": "stream",
          "name": "stdout",
          "text": [
            "\n",
            "Clean accuracy is:  92.16246644149996\n",
            "Attack success rate is:  80.47977829739327\n",
            "Pruned channel index is:  11\n",
            "361/361 [==============================] - 10s 27ms/step\n",
            "361/361 [==============================] - 8s 22ms/step\n"
          ]
        },
        {
          "output_type": "stream",
          "name": "stderr",
          "text": [
            "\r 85%|████████▌ | 51/60 [21:31<03:24, 22.74s/it]"
          ]
        },
        {
          "output_type": "stream",
          "name": "stdout",
          "text": [
            "\n",
            "Clean accuracy is:  89.17467740538669\n",
            "Attack success rate is:  80.73958603966398\n",
            "Pruned channel index is:  46\n",
            "361/361 [==============================] - 11s 30ms/step\n"
          ]
        },
        {
          "output_type": "stream",
          "name": "stderr",
          "text": [
            "WARNING:tensorflow:Compiled the loaded model, but the compiled metrics have yet to be built. `model.compile_metrics` will be empty until you train or evaluate the model.\n"
          ]
        },
        {
          "output_type": "stream",
          "name": "stdout",
          "text": [
            "The accuracy drops at least 10%, now saving the model\n",
            "361/361 [==============================] - 9s 24ms/step\n"
          ]
        },
        {
          "output_type": "stream",
          "name": "stderr",
          "text": [
            "\r 87%|████████▋ | 52/60 [22:04<03:26, 25.81s/it]"
          ]
        },
        {
          "output_type": "stream",
          "name": "stdout",
          "text": [
            "\n",
            "Clean accuracy is:  84.43751623798389\n",
            "Attack success rate is:  77.015675067117\n",
            "Pruned channel index is:  54\n",
            "361/361 [==============================] - 11s 30ms/step\n",
            "361/361 [==============================] - 9s 25ms/step\n"
          ]
        },
        {
          "output_type": "stream",
          "name": "stderr",
          "text": [
            "\r 88%|████████▊ | 53/60 [22:36<03:15, 27.90s/it]"
          ]
        },
        {
          "output_type": "stream",
          "name": "stdout",
          "text": [
            "\n",
            "Clean accuracy is:  76.48739932449988\n",
            "Attack success rate is:  35.71490430414826\n",
            "Pruned channel index is:  10\n",
            "361/361 [==============================] - 11s 29ms/step\n",
            "361/361 [==============================] - 10s 27ms/step\n"
          ]
        },
        {
          "output_type": "stream",
          "name": "stderr",
          "text": [
            "\r 90%|█████████ | 54/60 [23:09<02:56, 29.37s/it]"
          ]
        },
        {
          "output_type": "stream",
          "name": "stdout",
          "text": [
            "\n",
            "Clean accuracy is:  45.6915216073439\n",
            "Attack success rate is:  15.86559279466528\n",
            "Pruned channel index is:  4\n",
            "361/361 [==============================] - 10s 28ms/step\n",
            "361/361 [==============================] - 8s 21ms/step\n"
          ]
        },
        {
          "output_type": "stream",
          "name": "stderr",
          "text": [
            "\r 92%|█████████▏| 55/60 [23:32<02:17, 27.56s/it]"
          ]
        },
        {
          "output_type": "stream",
          "name": "stdout",
          "text": [
            "\n",
            "Clean accuracy is:  28.15449900407032\n",
            "Attack success rate is:  3.533385294881788\n",
            "Pruned channel index is:  18\n",
            "361/361 [==============================] - 8s 21ms/step\n",
            "361/361 [==============================] - 10s 28ms/step\n"
          ]
        },
        {
          "output_type": "stream",
          "name": "stderr",
          "text": [
            "\r 93%|█████████▎| 56/60 [23:53<01:41, 25.32s/it]"
          ]
        },
        {
          "output_type": "stream",
          "name": "stdout",
          "text": [
            "\n",
            "Clean accuracy is:  13.795791114575215\n",
            "Attack success rate is:  16.35922750497965\n",
            "Pruned channel index is:  7\n",
            "361/361 [==============================] - 8s 23ms/step\n",
            "361/361 [==============================] - 8s 21ms/step\n"
          ]
        },
        {
          "output_type": "stream",
          "name": "stderr",
          "text": [
            "\r 95%|█████████▌| 57/60 [24:12<01:11, 23.68s/it]"
          ]
        },
        {
          "output_type": "stream",
          "name": "stdout",
          "text": [
            "\n",
            "Clean accuracy is:  5.81103316878843\n",
            "Attack success rate is:  0.36373083917900756\n",
            "Pruned channel index is:  28\n",
            "361/361 [==============================] - 10s 28ms/step\n",
            "361/361 [==============================] - 8s 21ms/step\n"
          ]
        },
        {
          "output_type": "stream",
          "name": "stderr",
          "text": [
            "\r 97%|█████████▋| 58/60 [24:45<00:52, 26.33s/it]"
          ]
        },
        {
          "output_type": "stream",
          "name": "stdout",
          "text": [
            "\n",
            "Clean accuracy is:  1.5501861955486274\n",
            "Attack success rate is:  0.0\n",
            "Pruned channel index is:  35\n",
            "361/361 [==============================] - 8s 22ms/step\n",
            "361/361 [==============================] - 10s 28ms/step\n"
          ]
        },
        {
          "output_type": "stream",
          "name": "stderr",
          "text": [
            "\r 98%|█████████▊| 59/60 [25:07<00:25, 25.19s/it]"
          ]
        },
        {
          "output_type": "stream",
          "name": "stdout",
          "text": [
            "\n",
            "Clean accuracy is:  0.7188014202823244\n",
            "Attack success rate is:  0.0\n",
            "Pruned channel index is:  52\n",
            "361/361 [==============================] - 9s 26ms/step\n",
            "361/361 [==============================] - 7s 21ms/step\n"
          ]
        },
        {
          "output_type": "stream",
          "name": "stderr",
          "text": [
            "100%|██████████| 60/60 [25:27<00:00, 25.46s/it]"
          ]
        },
        {
          "output_type": "stream",
          "name": "stdout",
          "text": [
            "\n",
            "Clean accuracy is:  0.0779423226812159\n",
            "Attack success rate is:  0.0\n",
            "Pruned channel index is:  57\n"
          ]
        },
        {
          "output_type": "stream",
          "name": "stderr",
          "text": [
            "\n"
          ]
        }
      ]
    },
    {
      "cell_type": "code",
      "source": [
        "print(\"clean_accuracies: \", clean_accuracies)\n",
        "print(\"attack_success_rates: \", attack_success_rates)"
      ],
      "metadata": {
        "colab": {
          "base_uri": "https://localhost:8080/"
        },
        "id": "56crmblqZWos",
        "outputId": "be645c8d-1a9e-41f4-b13e-d0b97ffe8462"
      },
      "execution_count": null,
      "outputs": [
        {
          "output_type": "stream",
          "name": "stdout",
          "text": [
            "clean_accuracies:  [98.64899974019225, 98.64899974019225, 98.64899974019225, 98.64899974019225, 98.64899974019225, 98.64899974019225, 98.64899974019225, 98.64899974019225, 98.64899974019225, 98.64899974019225, 98.64899974019225, 98.64899974019225, 98.64899974019225, 98.64899974019225, 98.64899974019225, 98.64899974019225, 98.64899974019225, 98.64899974019225, 98.64899974019225, 98.64899974019225, 98.64899974019225, 98.64899974019225, 98.64899974019225, 98.64899974019225, 98.64899974019225, 98.64899974019225, 98.64899974019225, 98.64899974019225, 98.64899974019225, 98.64899974019225, 98.64899974019225, 98.64899974019225, 98.64899974019225, 98.64033948211657, 98.64033948211657, 98.63167922404088, 98.65765999826795, 98.64899974019225, 98.6056984498138, 98.57105741751104, 98.53641638520828, 98.19000606218066, 97.65307006148784, 97.50584567420108, 95.75647354291158, 95.20221702606739, 94.7172425738287, 92.09318437689443, 91.49562656967177, 91.01931237550879, 89.17467740538669, 84.43751623798389, 76.48739932449988, 54.8627349095003, 27.08928726076037, 13.87373343725643, 7.101411622066338, 1.5501861955486274, 0.7188014202823244, 0.0779423226812159]\n",
            "attack_success_rates:  [100.0, 100.0, 100.0, 100.0, 100.0, 100.0, 100.0, 100.0, 100.0, 100.0, 100.0, 100.0, 100.0, 100.0, 100.0, 100.0, 100.0, 100.0, 100.0, 100.0, 100.0, 100.0, 100.0, 100.0, 100.0, 100.0, 100.0, 100.0, 100.0, 100.0, 100.0, 100.0, 100.0, 100.0, 100.0, 100.0, 100.0, 100.0, 100.0, 100.0, 100.0, 100.0, 100.0, 100.0, 100.0, 99.9913397419243, 99.9913397419243, 99.9913397419243, 99.9913397419243, 99.98267948384861, 80.73958603966398, 77.015675067117, 35.71490430414826, 6.954187234779596, 0.4243526457088421, 0.0, 0.0, 0.0, 0.0, 0.0]\n"
          ]
        }
      ]
    },
    {
      "cell_type": "code",
      "source": [
        "x_axis = np.arange(1,61)/60\n",
        "plt.plot(x_axis,clean_accuracies)\n",
        "plt.plot(x_axis,attack_success_rates)\n",
        "plt.legend(['clean_accuracy','attack success rate'])\n",
        "plt.xlabel(\"fraction of pruned channels\")\n",
        "plt.ylabel(\"rate\")\n",
        "plt.title(\"accuracy and attack success rate for validation dataset\")"
      ],
      "metadata": {
        "colab": {
          "base_uri": "https://localhost:8080/",
          "height": 489
        },
        "id": "_znJjsM2RGzk",
        "outputId": "3d2aa38c-3a2a-4344-a672-581f31c0586f"
      },
      "execution_count": null,
      "outputs": [
        {
          "output_type": "execute_result",
          "data": {
            "text/plain": [
              "Text(0.5, 1.0, 'accuracy and attack success rate for validation dataset')"
            ]
          },
          "metadata": {},
          "execution_count": 18
        },
        {
          "output_type": "display_data",
          "data": {
            "text/plain": [
              "<Figure size 640x480 with 1 Axes>"
            ],
            "image/png": "[encoded data removed]"
          },
          "metadata": {}
        }
      ]
    },
    {
      "cell_type": "code",
      "source": [
        "index = np.where(np.array(clean_accuracies) <= (clean_data_accuracy-30))[0]\n",
        "print(\"The attack success rate when the accuracy drops at least 30%: \", attack_success_rates[index[0]])"
      ],
      "metadata": {
        "colab": {
          "base_uri": "https://localhost:8080/"
        },
        "id": "yM4gwMPfRHDm",
        "outputId": "63187ce2-bb8b-4ca1-a564-ab99308b9230"
      },
      "execution_count": null,
      "outputs": [
        {
          "output_type": "stream",
          "name": "stdout",
          "text": [
            "The attack success rate when the accuracy drops at least 30%:  6.954187234779596\n"
          ]
        }
      ]
    },
    {
      "cell_type": "markdown",
      "source": [
        "Combining Models:\n",
        "\n",
        "In this process, we're merging two models: the original \"badnet\" model and the \"pruned model\". The resulting merged model is referred to as the \"goodnet\". When both the predictions from the original \"badnet\" and the \"pruned model\" align, the \"goodnet\" will output this prediction."
      ],
      "metadata": {
        "id": "fFFTR8hrWaUL"
      }
    },
    {
      "cell_type": "code",
      "source": [
        "class G(keras.Model):\n",
        "  def __init__(self, B, B_prime):\n",
        "      super(G, self).__init__()\n",
        "      self.B = B\n",
        "      self.B_prime = B_prime\n",
        "\n",
        "  def predict(self,data):\n",
        "      y = np.argmax(self.B(data), axis=1)\n",
        "      y_prime = np.argmax(self.B_prime(data), axis=1)\n",
        "      pred = np.zeros(data.shape[0])\n",
        "      for i in range(data.shape[0]):\n",
        "        if y[i]==y_prime[i]:\n",
        "          pred[i] = y[i]\n",
        "        else:\n",
        "          pred[i] = 1283\n",
        "      return pred"
      ],
      "metadata": {
        "id": "QpJdn--DRHQN"
      },
      "execution_count": null,
      "outputs": []
    },
    {
      "cell_type": "code",
      "source": [
        "test_data_filename = '/content/drive/MyDrive/Lab3/test.h5'\n",
        "poisoned_test_data_filename = '/content/drive/MyDrive/Lab3/bd_test.h5'\n",
        "test_model_X_2_filename = '/content/drive/MyDrive/Lab3/model_X=2.h5'\n",
        "test_model_X_4_filename = '/content/drive/MyDrive/Lab3/model_X=4.h5'\n",
        "test_model_X_10_filename = '/content/drive/MyDrive/Lab3/model_X=10.h5'"
      ],
      "metadata": {
        "id": "y9WrleUkR1U3"
      },
      "execution_count": null,
      "outputs": []
    },
    {
      "cell_type": "code",
      "source": [
        "test_model_X_2 = keras.models.load_model(test_model_X_2_filename)\n",
        "test_model_X_4 = keras.models.load_model(test_model_X_4_filename)\n",
        "test_model_X_10 = keras.models.load_model(test_model_X_10_filename)"
      ],
      "metadata": {
        "colab": {
          "base_uri": "https://localhost:8080/"
        },
        "id": "r2EdtsHpR1it",
        "outputId": "dc328da1-ef58-41e3-9f01-c03db3b9bab2"
      },
      "execution_count": null,
      "outputs": [
        {
          "output_type": "stream",
          "name": "stderr",
          "text": [
            "WARNING:tensorflow:No training configuration found in the save file, so the model was *not* compiled. Compile it manually.\n",
            "WARNING:tensorflow:No training configuration found in the save file, so the model was *not* compiled. Compile it manually.\n",
            "WARNING:tensorflow:No training configuration found in the save file, so the model was *not* compiled. Compile it manually.\n"
          ]
        }
      ]
    },
    {
      "cell_type": "code",
      "source": [
        "x_test_data, y_test_data = data_loader(test_data_filename)\n",
        "x_test_poisoned_data, y_test_poisnoed_data = data_loader(poisoned_test_data_filename)\n",
        "\n",
        "\n",
        "G_model_X_2 = G(model, test_model_X_2)\n",
        "G_model_X_4 = G(model, test_model_X_4)\n",
        "G_model_X_10 = G(model, test_model_X_10)"
      ],
      "metadata": {
        "id": "hOBMgNIJRHbp"
      },
      "execution_count": null,
      "outputs": []
    },
    {
      "cell_type": "code",
      "source": [
        "#Evaluating on the test dataset:\n",
        "cl_test_2_label_p = np.argmax(test_model_X_2.predict(x_test_data), axis=1)\n",
        "clean_test_2_accuracy = np.mean(np.equal(cl_test_2_label_p, y_test_data))*100\n",
        "print('2% drops model, the clean test data Classification accuracy:', clean_test_2_accuracy)\n",
        "\n",
        "bd_test_2_label_p = np.argmax(test_model_X_2.predict(x_test_poisoned_data), axis=1)\n",
        "asr_2 = np.mean(np.equal(bd_test_2_label_p, y_test_poisnoed_data))*100\n",
        "print('2% drops model, Attack Success Rate:', asr_2)\n",
        "\n",
        "cl_test_4_label_p = np.argmax(test_model_X_4.predict(x_test_data), axis=1)\n",
        "clean_test_4_accuracy = np.mean(np.equal(cl_test_4_label_p, y_test_data))*100\n",
        "print('4% drops model, the clean test data classification accuracy:', clean_test_4_accuracy)\n",
        "\n",
        "bd_test_4_label_p = np.argmax(test_model_X_4.predict(x_test_poisoned_data), axis=1)\n",
        "asr_4 = np.mean(np.equal(bd_test_4_label_p, y_test_poisnoed_data))*100\n",
        "print('4% drops model, Attack Success Rate:', asr_4)\n",
        "\n",
        "cl_test_10_label_p = np.argmax(test_model_X_10.predict(x_test_data), axis=1)\n",
        "clean_test_10_accuracy = np.mean(np.equal(cl_test_10_label_p, y_test_data))*100\n",
        "print('10% drops model, the clean test data classification accuracy:', clean_test_10_accuracy)\n",
        "\n",
        "bd_test_10_label_p = np.argmax(test_model_X_10.predict(x_test_poisoned_data), axis=1)\n",
        "asr_10 = np.mean(np.equal(bd_test_10_label_p, y_test_poisnoed_data))*100\n",
        "print('10% drops model, Attack Success Rate:', asr_10)\n"
      ],
      "metadata": {
        "colab": {
          "base_uri": "https://localhost:8080/"
        },
        "id": "lzBHcQz4ScX6",
        "outputId": "02e26838-ee70-4f38-84d4-a6be0a3f7533"
      },
      "execution_count": null,
      "outputs": [
        {
          "output_type": "stream",
          "name": "stdout",
          "text": [
            "401/401 [==============================] - 12s 29ms/step\n",
            "2% drops model, the clean test data Classification accuracy: 95.90023382696803\n",
            "401/401 [==============================] - 13s 32ms/step\n",
            "2% drops model, Attack Success Rate: 100.0\n",
            "401/401 [==============================] - 15s 36ms/step\n",
            "4% drops model, the clean test data classification accuracy: 94.77007014809041\n",
            "401/401 [==============================] - 12s 30ms/step\n",
            "4% drops model, Attack Success Rate: 99.98441153546376\n",
            "401/401 [==============================] - 14s 34ms/step\n",
            "10% drops model, the clean test data classification accuracy: 84.54403741231489\n",
            "401/401 [==============================] - 12s 29ms/step\n",
            "10% drops model, Attack Success Rate: 77.20966484801247\n"
          ]
        }
      ]
    },
    {
      "cell_type": "code",
      "source": [
        "# To summarize all the models:\n",
        "import pandas as pd\n",
        "import seaborn as sns\n",
        "\n",
        "test_acc = [clean_test_2_accuracy, clean_test_4_accuracy, clean_test_10_accuracy]\n",
        "attack_rate = [asr_2, asr_4, asr_10]\n",
        "data = {\n",
        "    \"text_acc\": test_acc,\n",
        "    \"attack_rate\": attack_rate,\n",
        "    \"model\": [\"repaired_2%\", \"repaired_4%\", \"repaired_10%\"]\n",
        "}\n",
        "df = pd.DataFrame(data)\n",
        "df.set_index('model')"
      ],
      "metadata": {
        "colab": {
          "base_uri": "https://localhost:8080/",
          "height": 175
        },
        "id": "wIhFbe_8Scga",
        "outputId": "ce7c6d79-2933-42bd-c65a-647497fee121"
      },
      "execution_count": null,
      "outputs": [
        {
          "output_type": "execute_result",
          "data": {
            "text/plain": [
              "               text_acc  attack_rate\n",
              "model                               \n",
              "repaired_2%   95.900234   100.000000\n",
              "repaired_4%   94.770070    99.984412\n",
              "repaired_10%  84.544037    77.209665"
            ],
            "text/html": [
              "\n",
              "  <div id=\"df-b53666f1-ea7c-426b-81aa-20e81e0fc0e7\" class=\"colab-df-container\">\n",
              "    <div>\n",
              "<style scoped>\n",
              "    .dataframe tbody tr th:only-of-type {\n",
              "        vertical-align: middle;\n",
              "    }\n",
              "\n",
              "    .dataframe tbody tr th {\n",
              "        vertical-align: top;\n",
              "    }\n",
              "\n",
              "    .dataframe thead th {\n",
              "        text-align: right;\n",
              "    }\n",
              "</style>\n",
              "<table border=\"1\" class=\"dataframe\">\n",
              "  <thead>\n",
              "    <tr style=\"text-align: right;\">\n",
              "      <th></th>\n",
              "      <th>text_acc</th>\n",
              "      <th>attack_rate</th>\n",
              "    </tr>\n",
              "    <tr>\n",
              "      <th>model</th>\n",
              "      <th></th>\n",
              "      <th></th>\n",
              "    </tr>\n",
              "  </thead>\n",
              "  <tbody>\n",
              "    <tr>\n",
              "      <th>repaired_2%</th>\n",
              "      <td>95.900234</td>\n",
              "      <td>100.000000</td>\n",
              "    </tr>\n",
              "    <tr>\n",
              "      <th>repaired_4%</th>\n",
              "      <td>94.770070</td>\n",
              "      <td>99.984412</td>\n",
              "    </tr>\n",
              "    <tr>\n",
              "      <th>repaired_10%</th>\n",
              "      <td>84.544037</td>\n",
              "      <td>77.209665</td>\n",
              "    </tr>\n",
              "  </tbody>\n",
              "</table>\n",
              "</div>\n",
              "    <div class=\"colab-df-buttons\">\n",
              "\n",
              "  <div class=\"colab-df-container\">\n",
              "    <button class=\"colab-df-convert\" onclick=\"convertToInteractive('df-b53666f1-ea7c-426b-81aa-20e81e0fc0e7')\"\n",
              "            title=\"Convert this dataframe to an interactive table.\"\n",
              "            style=\"display:none;\">\n",
              "\n",
              "  <svg xmlns=\"http://www.w3.org/2000/svg\" height=\"24px\" viewBox=\"0 -960 960 960\">\n",
              "    <path d=\"M120-120v-720h720v720H120Zm60-500h600v-160H180v160Zm220 220h160v-160H400v160Zm0 220h160v-160H400v160ZM180-400h160v-160H180v160Zm440 0h160v-160H620v160ZM180-180h160v-160H180v160Zm440 0h160v-160H620v160Z\"/>\n",
              "  </svg>\n",
              "    </button>\n",
              "\n",
              "  <style>\n",
              "    .colab-df-container {\n",
              "      display:flex;\n",
              "      gap: 12px;\n",
              "    }\n",
              "\n",
              "    .colab-df-convert {\n",
              "      background-color: #E8F0FE;\n",
              "      border: none;\n",
              "      border-radius: 50%;\n",
              "      cursor: pointer;\n",
              "      display: none;\n",
              "      fill: #1967D2;\n",
              "      height: 32px;\n",
              "      padding: 0 0 0 0;\n",
              "      width: 32px;\n",
              "    }\n",
              "\n",
              "    .colab-df-convert:hover {\n",
              "      background-color: #E2EBFA;\n",
              "      box-shadow: 0px 1px 2px rgba(60, 64, 67, 0.3), 0px 1px 3px 1px rgba(60, 64, 67, 0.15);\n",
              "      fill: #174EA6;\n",
              "    }\n",
              "\n",
              "    .colab-df-buttons div {\n",
              "      margin-bottom: 4px;\n",
              "    }\n",
              "\n",
              "    [theme=dark] .colab-df-convert {\n",
              "      background-color: #3B4455;\n",
              "      fill: #D2E3FC;\n",
              "    }\n",
              "\n",
              "    [theme=dark] .colab-df-convert:hover {\n",
              "      background-color: #434B5C;\n",
              "      box-shadow: 0px 1px 3px 1px rgba(0, 0, 0, 0.15);\n",
              "      filter: drop-shadow(0px 1px 2px rgba(0, 0, 0, 0.3));\n",
              "      fill: #FFFFFF;\n",
              "    }\n",
              "  </style>\n",
              "\n",
              "    <script>\n",
              "      const buttonEl =\n",
              "        document.querySelector('#df-b53666f1-ea7c-426b-81aa-20e81e0fc0e7 button.colab-df-convert');\n",
              "      buttonEl.style.display =\n",
              "        google.colab.kernel.accessAllowed ? 'block' : 'none';\n",
              "\n",
              "      async function convertToInteractive(key) {\n",
              "        const element = document.querySelector('#df-b53666f1-ea7c-426b-81aa-20e81e0fc0e7');\n",
              "        const dataTable =\n",
              "          await google.colab.kernel.invokeFunction('convertToInteractive',\n",
              "                                                    [key], {});\n",
              "        if (!dataTable) return;\n",
              "\n",
              "        const docLinkHtml = 'Like what you see? Visit the ' +\n",
              "          '<a target=\"_blank\" href=https://colab.research.google.com/notebooks/data_table.ipynb>data table notebook</a>'\n",
              "          + ' to learn more about interactive tables.';\n",
              "        element.innerHTML = '';\n",
              "        dataTable['output_type'] = 'display_data';\n",
              "        await google.colab.output.renderOutput(dataTable, element);\n",
              "        const docLink = document.createElement('div');\n",
              "        docLink.innerHTML = docLinkHtml;\n",
              "        element.appendChild(docLink);\n",
              "      }\n",
              "    </script>\n",
              "  </div>\n",
              "\n",
              "\n",
              "<div id=\"df-315b0e2e-06ec-4149-b81f-efab9926ba8a\">\n",
              "  <button class=\"colab-df-quickchart\" onclick=\"quickchart('df-315b0e2e-06ec-4149-b81f-efab9926ba8a')\"\n",
              "            title=\"Suggest charts\"\n",
              "            style=\"display:none;\">\n",
              "\n",
              "<svg xmlns=\"http://www.w3.org/2000/svg\" height=\"24px\"viewBox=\"0 0 24 24\"\n",
              "     width=\"24px\">\n",
              "    <g>\n",
              "        <path d=\"M19 3H5c-1.1 0-2 .9-2 2v14c0 1.1.9 2 2 2h14c1.1 0 2-.9 2-2V5c0-1.1-.9-2-2-2zM9 17H7v-7h2v7zm4 0h-2V7h2v10zm4 0h-2v-4h2v4z\"/>\n",
              "    </g>\n",
              "</svg>\n",
              "  </button>\n",
              "\n",
              "<style>\n",
              "  .colab-df-quickchart {\n",
              "      --bg-color: #E8F0FE;\n",
              "      --fill-color: #1967D2;\n",
              "      --hover-bg-color: #E2EBFA;\n",
              "      --hover-fill-color: #174EA6;\n",
              "      --disabled-fill-color: #AAA;\n",
              "      --disabled-bg-color: #DDD;\n",
              "  }\n",
              "\n",
              "  [theme=dark] .colab-df-quickchart {\n",
              "      --bg-color: #3B4455;\n",
              "      --fill-color: #D2E3FC;\n",
              "      --hover-bg-color: #434B5C;\n",
              "      --hover-fill-color: #FFFFFF;\n",
              "      --disabled-bg-color: #3B4455;\n",
              "      --disabled-fill-color: #666;\n",
              "  }\n",
              "\n",
              "  .colab-df-quickchart {\n",
              "    background-color: var(--bg-color);\n",
              "    border: none;\n",
              "    border-radius: 50%;\n",
              "    cursor: pointer;\n",
              "    display: none;\n",
              "    fill: var(--fill-color);\n",
              "    height: 32px;\n",
              "    padding: 0;\n",
              "    width: 32px;\n",
              "  }\n",
              "\n",
              "  .colab-df-quickchart:hover {\n",
              "    background-color: var(--hover-bg-color);\n",
              "    box-shadow: 0 1px 2px rgba(60, 64, 67, 0.3), 0 1px 3px 1px rgba(60, 64, 67, 0.15);\n",
              "    fill: var(--button-hover-fill-color);\n",
              "  }\n",
              "\n",
              "  .colab-df-quickchart-complete:disabled,\n",
              "  .colab-df-quickchart-complete:disabled:hover {\n",
              "    background-color: var(--disabled-bg-color);\n",
              "    fill: var(--disabled-fill-color);\n",
              "    box-shadow: none;\n",
              "  }\n",
              "\n",
              "  .colab-df-spinner {\n",
              "    border: 2px solid var(--fill-color);\n",
              "    border-color: transparent;\n",
              "    border-bottom-color: var(--fill-color);\n",
              "    animation:\n",
              "      spin 1s steps(1) infinite;\n",
              "  }\n",
              "\n",
              "  @keyframes spin {\n",
              "    0% {\n",
              "      border-color: transparent;\n",
              "      border-bottom-color: var(--fill-color);\n",
              "      border-left-color: var(--fill-color);\n",
              "    }\n",
              "    20% {\n",
              "      border-color: transparent;\n",
              "      border-left-color: var(--fill-color);\n",
              "      border-top-color: var(--fill-color);\n",
              "    }\n",
              "    30% {\n",
              "      border-color: transparent;\n",
              "      border-left-color: var(--fill-color);\n",
              "      border-top-color: var(--fill-color);\n",
              "      border-right-color: var(--fill-color);\n",
              "    }\n",
              "    40% {\n",
              "      border-color: transparent;\n",
              "      border-right-color: var(--fill-color);\n",
              "      border-top-color: var(--fill-color);\n",
              "    }\n",
              "    60% {\n",
              "      border-color: transparent;\n",
              "      border-right-color: var(--fill-color);\n",
              "    }\n",
              "    80% {\n",
              "      border-color: transparent;\n",
              "      border-right-color: var(--fill-color);\n",
              "      border-bottom-color: var(--fill-color);\n",
              "    }\n",
              "    90% {\n",
              "      border-color: transparent;\n",
              "      border-bottom-color: var(--fill-color);\n",
              "    }\n",
              "  }\n",
              "</style>\n",
              "\n",
              "  <script>\n",
              "    async function quickchart(key) {\n",
              "      const quickchartButtonEl =\n",
              "        document.querySelector('#' + key + ' button');\n",
              "      quickchartButtonEl.disabled = true;  // To prevent multiple clicks.\n",
              "      quickchartButtonEl.classList.add('colab-df-spinner');\n",
              "      try {\n",
              "        const charts = await google.colab.kernel.invokeFunction(\n",
              "            'suggestCharts', [key], {});\n",
              "      } catch (error) {\n",
              "        console.error('Error during call to suggestCharts:', error);\n",
              "      }\n",
              "      quickchartButtonEl.classList.remove('colab-df-spinner');\n",
              "      quickchartButtonEl.classList.add('colab-df-quickchart-complete');\n",
              "    }\n",
              "    (() => {\n",
              "      let quickchartButtonEl =\n",
              "        document.querySelector('#df-315b0e2e-06ec-4149-b81f-efab9926ba8a button');\n",
              "      quickchartButtonEl.style.display =\n",
              "        google.colab.kernel.accessAllowed ? 'block' : 'none';\n",
              "    })();\n",
              "  </script>\n",
              "</div>\n",
              "    </div>\n",
              "  </div>\n"
            ]
          },
          "metadata": {},
          "execution_count": 33
        }
      ]
    },
    {
      "cell_type": "code",
      "source": [
        "o_constant = 0.4\n",
        "bar_width = 0.35\n",
        "\n",
        "plt.xlabel('% drops model')\n",
        "plt.ylabel('Rate')\n",
        "\n",
        "plt.xticks(range(len(test_acc)),('2%', '4%', '10%'))\n",
        "bar1 = plt.bar(np.arange(len(test_acc)) + bar_width, test_acc, bar_width, align='center', alpha=o_constant, color='b', label='accuracy')\n",
        "bar2 = plt.bar(range(len(attack_rate)), attack_rate, bar_width, align='center', alpha=o_constant, color='r', label='attack rate')\n",
        "\n",
        "# Add counts above the two bar graphs\n",
        "for rect in bar1 + bar2:\n",
        "    height = rect.get_height()\n",
        "    plt.text(rect.get_x() + rect.get_width() / 2.0, height, f'{height:.02f}', ha='center', va='bottom')\n",
        "\n",
        "plt.legend(bbox_to_anchor=(1.4, 1))\n",
        "plt.tight_layout()\n",
        "plt.title('performance of repaired model')\n",
        "sns.despine()\n",
        "plt.show()\n"
      ],
      "metadata": {
        "colab": {
          "base_uri": "https://localhost:8080/",
          "height": 509
        },
        "id": "3QsEhqEVScos",
        "outputId": "8b5d1e76-c81b-4dc0-bb3b-a6af14ce1826"
      },
      "execution_count": null,
      "outputs": [
        {
          "output_type": "display_data",
          "data": {
            "text/plain": [
              "<Figure size 640x480 with 1 Axes>"
            ],
            "image/png": "[encoded data removed]"
          },
          "metadata": {}
        }
      ]
    },
    {
      "cell_type": "code",
      "source": [
        "G_cl_test_2_label_p = G_model_X_2.predict(x_test_data)\n",
        "G_clean_test_2_accuracy = np.mean(np.equal(cl_test_2_label_p, y_test_data))*100\n",
        "print('Combined 2% drops model, the clean test data Classification accuracy:', G_clean_test_2_accuracy)\n",
        "\n",
        "G_bd_test_2_label_p = G_model_X_2.predict(x_test_poisoned_data)\n",
        "G_asr_2 = np.mean(np.equal(bd_test_2_label_p, y_test_poisnoed_data))*100\n",
        "print('Combined 2% drops model, Attack Success Rate:', G_asr_2)\n",
        "\n",
        "G_cl_test_4_label_p = G_model_X_4.predict(x_test_data)\n",
        "G_clean_test_4_accuracy = np.mean(np.equal(cl_test_4_label_p, y_test_data))*100\n",
        "print('Combined 4% drops model, the clean test data Classification accuracy:', G_clean_test_4_accuracy)\n",
        "\n",
        "G_bd_test_4_label_p = G_model_X_4.predict(x_test_poisoned_data)\n",
        "G_asr_4 = np.mean(np.equal(bd_test_4_label_p, y_test_poisnoed_data))*100\n",
        "print('Combined 4% drops model, Attack Success Rate:', G_asr_4)\n",
        "\n",
        "G_cl_test_10_label_p = G_model_X_10.predict(x_test_data)\n",
        "G_clean_test_10_accuracy = np.mean(np.equal(cl_test_10_label_p, y_test_data))*100\n",
        "print('Combined 10% drops model, the clean test data Classification accuracy:', G_clean_test_10_accuracy)\n",
        "\n",
        "G_bd_test_10_label_p = G_model_X_10.predict(x_test_poisoned_data)\n",
        "G_asr_10 = np.mean(np.equal(bd_test_10_label_p, y_test_poisnoed_data))*100\n",
        "print('Combined 10% drops model, Attack Success Rate:', G_asr_10)"
      ],
      "metadata": {
        "colab": {
          "base_uri": "https://localhost:8080/"
        },
        "id": "6hQACCQyScv3",
        "outputId": "e947ec38-cb00-4385-9cd2-84560059ab6f"
      },
      "execution_count": null,
      "outputs": [
        {
          "output_type": "stream",
          "name": "stdout",
          "text": [
            "Combined 2% drops model, the clean test data Classification accuracy: 95.90023382696803\n",
            "Combined 2% drops model, Attack Success Rate: 100.0\n",
            "Combined 4% drops model, the clean test data Classification accuracy: 94.77007014809041\n",
            "Combined 4% drops model, Attack Success Rate: 99.98441153546376\n",
            "Combined 10% drops model, the clean test data Classification accuracy: 84.54403741231489\n",
            "Combined 10% drops model, Attack Success Rate: 77.20966484801247\n"
          ]
        }
      ]
    },
    {
      "cell_type": "code",
      "source": [
        "\n",
        "G_test_acc = [G_clean_test_2_accuracy, G_clean_test_4_accuracy, G_clean_test_10_accuracy]\n",
        "G_attack_rate = [G_asr_2, G_asr_4, G_asr_10]\n",
        "G_data = {\n",
        "    \"G_text_acc\": G_test_acc,\n",
        "    \"G_attack_rate\": G_attack_rate,\n",
        "    \"G_model\": [\"G_2%\", \"G_4%\", \"G_10%\"]\n",
        "}\n",
        "G_df = pd.DataFrame(G_data)\n",
        "G_df.set_index('G_model')"
      ],
      "metadata": {
        "colab": {
          "base_uri": "https://localhost:8080/",
          "height": 175
        },
        "id": "NBEL2NQlRHlI",
        "outputId": "f264ad00-e14a-44b3-cd30-1e458161db19"
      },
      "execution_count": null,
      "outputs": [
        {
          "output_type": "execute_result",
          "data": {
            "text/plain": [
              "         G_text_acc  G_attack_rate\n",
              "G_model                           \n",
              "G_2%      95.900234     100.000000\n",
              "G_4%      94.770070      99.984412\n",
              "G_10%     84.544037      77.209665"
            ],
            "text/html": [
              "\n",
              "  <div id=\"df-4c508c36-dd7c-4f02-afdb-7bc1a6cf6c5b\" class=\"colab-df-container\">\n",
              "    <div>\n",
              "<style scoped>\n",
              "    .dataframe tbody tr th:only-of-type {\n",
              "        vertical-align: middle;\n",
              "    }\n",
              "\n",
              "    .dataframe tbody tr th {\n",
              "        vertical-align: top;\n",
              "    }\n",
              "\n",
              "    .dataframe thead th {\n",
              "        text-align: right;\n",
              "    }\n",
              "</style>\n",
              "<table border=\"1\" class=\"dataframe\">\n",
              "  <thead>\n",
              "    <tr style=\"text-align: right;\">\n",
              "      <th></th>\n",
              "      <th>G_text_acc</th>\n",
              "      <th>G_attack_rate</th>\n",
              "    </tr>\n",
              "    <tr>\n",
              "      <th>G_model</th>\n",
              "      <th></th>\n",
              "      <th></th>\n",
              "    </tr>\n",
              "  </thead>\n",
              "  <tbody>\n",
              "    <tr>\n",
              "      <th>G_2%</th>\n",
              "      <td>95.900234</td>\n",
              "      <td>100.000000</td>\n",
              "    </tr>\n",
              "    <tr>\n",
              "      <th>G_4%</th>\n",
              "      <td>94.770070</td>\n",
              "      <td>99.984412</td>\n",
              "    </tr>\n",
              "    <tr>\n",
              "      <th>G_10%</th>\n",
              "      <td>84.544037</td>\n",
              "      <td>77.209665</td>\n",
              "    </tr>\n",
              "  </tbody>\n",
              "</table>\n",
              "</div>\n",
              "    <div class=\"colab-df-buttons\">\n",
              "\n",
              "  <div class=\"colab-df-container\">\n",
              "    <button class=\"colab-df-convert\" onclick=\"convertToInteractive('df-4c508c36-dd7c-4f02-afdb-7bc1a6cf6c5b')\"\n",
              "            title=\"Convert this dataframe to an interactive table.\"\n",
              "            style=\"display:none;\">\n",
              "\n",
              "  <svg xmlns=\"http://www.w3.org/2000/svg\" height=\"24px\" viewBox=\"0 -960 960 960\">\n",
              "    <path d=\"M120-120v-720h720v720H120Zm60-500h600v-160H180v160Zm220 220h160v-160H400v160Zm0 220h160v-160H400v160ZM180-400h160v-160H180v160Zm440 0h160v-160H620v160ZM180-180h160v-160H180v160Zm440 0h160v-160H620v160Z\"/>\n",
              "  </svg>\n",
              "    </button>\n",
              "\n",
              "  <style>\n",
              "    .colab-df-container {\n",
              "      display:flex;\n",
              "      gap: 12px;\n",
              "    }\n",
              "\n",
              "    .colab-df-convert {\n",
              "      background-color: #E8F0FE;\n",
              "      border: none;\n",
              "      border-radius: 50%;\n",
              "      cursor: pointer;\n",
              "      display: none;\n",
              "      fill: #1967D2;\n",
              "      height: 32px;\n",
              "      padding: 0 0 0 0;\n",
              "      width: 32px;\n",
              "    }\n",
              "\n",
              "    .colab-df-convert:hover {\n",
              "      background-color: #E2EBFA;\n",
              "      box-shadow: 0px 1px 2px rgba(60, 64, 67, 0.3), 0px 1px 3px 1px rgba(60, 64, 67, 0.15);\n",
              "      fill: #174EA6;\n",
              "    }\n",
              "\n",
              "    .colab-df-buttons div {\n",
              "      margin-bottom: 4px;\n",
              "    }\n",
              "\n",
              "    [theme=dark] .colab-df-convert {\n",
              "      background-color: #3B4455;\n",
              "      fill: #D2E3FC;\n",
              "    }\n",
              "\n",
              "    [theme=dark] .colab-df-convert:hover {\n",
              "      background-color: #434B5C;\n",
              "      box-shadow: 0px 1px 3px 1px rgba(0, 0, 0, 0.15);\n",
              "      filter: drop-shadow(0px 1px 2px rgba(0, 0, 0, 0.3));\n",
              "      fill: #FFFFFF;\n",
              "    }\n",
              "  </style>\n",
              "\n",
              "    <script>\n",
              "      const buttonEl =\n",
              "        document.querySelector('#df-4c508c36-dd7c-4f02-afdb-7bc1a6cf6c5b button.colab-df-convert');\n",
              "      buttonEl.style.display =\n",
              "        google.colab.kernel.accessAllowed ? 'block' : 'none';\n",
              "\n",
              "      async function convertToInteractive(key) {\n",
              "        const element = document.querySelector('#df-4c508c36-dd7c-4f02-afdb-7bc1a6cf6c5b');\n",
              "        const dataTable =\n",
              "          await google.colab.kernel.invokeFunction('convertToInteractive',\n",
              "                                                    [key], {});\n",
              "        if (!dataTable) return;\n",
              "\n",
              "        const docLinkHtml = 'Like what you see? Visit the ' +\n",
              "          '<a target=\"_blank\" href=https://colab.research.google.com/notebooks/data_table.ipynb>data table notebook</a>'\n",
              "          + ' to learn more about interactive tables.';\n",
              "        element.innerHTML = '';\n",
              "        dataTable['output_type'] = 'display_data';\n",
              "        await google.colab.output.renderOutput(dataTable, element);\n",
              "        const docLink = document.createElement('div');\n",
              "        docLink.innerHTML = docLinkHtml;\n",
              "        element.appendChild(docLink);\n",
              "      }\n",
              "    </script>\n",
              "  </div>\n",
              "\n",
              "\n",
              "<div id=\"df-eac13ac3-984f-4cec-92e2-c2b2974481c3\">\n",
              "  <button class=\"colab-df-quickchart\" onclick=\"quickchart('df-eac13ac3-984f-4cec-92e2-c2b2974481c3')\"\n",
              "            title=\"Suggest charts\"\n",
              "            style=\"display:none;\">\n",
              "\n",
              "<svg xmlns=\"http://www.w3.org/2000/svg\" height=\"24px\"viewBox=\"0 0 24 24\"\n",
              "     width=\"24px\">\n",
              "    <g>\n",
              "        <path d=\"M19 3H5c-1.1 0-2 .9-2 2v14c0 1.1.9 2 2 2h14c1.1 0 2-.9 2-2V5c0-1.1-.9-2-2-2zM9 17H7v-7h2v7zm4 0h-2V7h2v10zm4 0h-2v-4h2v4z\"/>\n",
              "    </g>\n",
              "</svg>\n",
              "  </button>\n",
              "\n",
              "<style>\n",
              "  .colab-df-quickchart {\n",
              "      --bg-color: #E8F0FE;\n",
              "      --fill-color: #1967D2;\n",
              "      --hover-bg-color: #E2EBFA;\n",
              "      --hover-fill-color: #174EA6;\n",
              "      --disabled-fill-color: #AAA;\n",
              "      --disabled-bg-color: #DDD;\n",
              "  }\n",
              "\n",
              "  [theme=dark] .colab-df-quickchart {\n",
              "      --bg-color: #3B4455;\n",
              "      --fill-color: #D2E3FC;\n",
              "      --hover-bg-color: #434B5C;\n",
              "      --hover-fill-color: #FFFFFF;\n",
              "      --disabled-bg-color: #3B4455;\n",
              "      --disabled-fill-color: #666;\n",
              "  }\n",
              "\n",
              "  .colab-df-quickchart {\n",
              "    background-color: var(--bg-color);\n",
              "    border: none;\n",
              "    border-radius: 50%;\n",
              "    cursor: pointer;\n",
              "    display: none;\n",
              "    fill: var(--fill-color);\n",
              "    height: 32px;\n",
              "    padding: 0;\n",
              "    width: 32px;\n",
              "  }\n",
              "\n",
              "  .colab-df-quickchart:hover {\n",
              "    background-color: var(--hover-bg-color);\n",
              "    box-shadow: 0 1px 2px rgba(60, 64, 67, 0.3), 0 1px 3px 1px rgba(60, 64, 67, 0.15);\n",
              "    fill: var(--button-hover-fill-color);\n",
              "  }\n",
              "\n",
              "  .colab-df-quickchart-complete:disabled,\n",
              "  .colab-df-quickchart-complete:disabled:hover {\n",
              "    background-color: var(--disabled-bg-color);\n",
              "    fill: var(--disabled-fill-color);\n",
              "    box-shadow: none;\n",
              "  }\n",
              "\n",
              "  .colab-df-spinner {\n",
              "    border: 2px solid var(--fill-color);\n",
              "    border-color: transparent;\n",
              "    border-bottom-color: var(--fill-color);\n",
              "    animation:\n",
              "      spin 1s steps(1) infinite;\n",
              "  }\n",
              "\n",
              "  @keyframes spin {\n",
              "    0% {\n",
              "      border-color: transparent;\n",
              "      border-bottom-color: var(--fill-color);\n",
              "      border-left-color: var(--fill-color);\n",
              "    }\n",
              "    20% {\n",
              "      border-color: transparent;\n",
              "      border-left-color: var(--fill-color);\n",
              "      border-top-color: var(--fill-color);\n",
              "    }\n",
              "    30% {\n",
              "      border-color: transparent;\n",
              "      border-left-color: var(--fill-color);\n",
              "      border-top-color: var(--fill-color);\n",
              "      border-right-color: var(--fill-color);\n",
              "    }\n",
              "    40% {\n",
              "      border-color: transparent;\n",
              "      border-right-color: var(--fill-color);\n",
              "      border-top-color: var(--fill-color);\n",
              "    }\n",
              "    60% {\n",
              "      border-color: transparent;\n",
              "      border-right-color: var(--fill-color);\n",
              "    }\n",
              "    80% {\n",
              "      border-color: transparent;\n",
              "      border-right-color: var(--fill-color);\n",
              "      border-bottom-color: var(--fill-color);\n",
              "    }\n",
              "    90% {\n",
              "      border-color: transparent;\n",
              "      border-bottom-color: var(--fill-color);\n",
              "    }\n",
              "  }\n",
              "</style>\n",
              "\n",
              "  <script>\n",
              "    async function quickchart(key) {\n",
              "      const quickchartButtonEl =\n",
              "        document.querySelector('#' + key + ' button');\n",
              "      quickchartButtonEl.disabled = true;  // To prevent multiple clicks.\n",
              "      quickchartButtonEl.classList.add('colab-df-spinner');\n",
              "      try {\n",
              "        const charts = await google.colab.kernel.invokeFunction(\n",
              "            'suggestCharts', [key], {});\n",
              "      } catch (error) {\n",
              "        console.error('Error during call to suggestCharts:', error);\n",
              "      }\n",
              "      quickchartButtonEl.classList.remove('colab-df-spinner');\n",
              "      quickchartButtonEl.classList.add('colab-df-quickchart-complete');\n",
              "    }\n",
              "    (() => {\n",
              "      let quickchartButtonEl =\n",
              "        document.querySelector('#df-eac13ac3-984f-4cec-92e2-c2b2974481c3 button');\n",
              "      quickchartButtonEl.style.display =\n",
              "        google.colab.kernel.accessAllowed ? 'block' : 'none';\n",
              "    })();\n",
              "  </script>\n",
              "</div>\n",
              "    </div>\n",
              "  </div>\n"
            ]
          },
          "metadata": {},
          "execution_count": 37
        }
      ]
    },
    {
      "cell_type": "code",
      "source": [
        "o_constant = 0.4\n",
        "bar_width = 0.35\n",
        "\n",
        "plt.xlabel('combined % drops model')\n",
        "plt.ylabel('Rate')\n",
        "\n",
        "plt.xticks(range(len(G_test_acc)),('2%', '4%', '10%'))\n",
        "bar1 = plt.bar(np.arange(len(G_test_acc)) + bar_width, G_test_acc, bar_width, align='center', alpha=o_constant, color='b', label='accuracy')\n",
        "bar2 = plt.bar(range(len(G_attack_rate)),G_attack_rate, bar_width, align='center', alpha=o_constant, color='r', label='attack rate')\n",
        "\n",
        "for rect in bar1 + bar2:\n",
        "    height = rect.get_height()\n",
        "    plt.text(rect.get_x() + rect.get_width() / 2.0, height, f'{height:.02f}', ha='center', va='bottom')\n",
        "\n",
        "plt.legend(bbox_to_anchor=(1.4, 1))\n",
        "plt.tight_layout()\n",
        "plt.title('performance of goodNet model')\n",
        "sns.despine()\n",
        "plt.show()"
      ],
      "metadata": {
        "colab": {
          "base_uri": "https://localhost:8080/",
          "height": 509
        },
        "id": "kVUEAcycU2xu",
        "outputId": "2218a6f2-1051-4cd6-a7a4-01b432f96fb2"
      },
      "execution_count": null,
      "outputs": [
        {
          "output_type": "display_data",
          "data": {
            "text/plain": [
              "<Figure size 640x480 with 1 Axes>"
            ],
            "image/png": "[encoded data removed]"
          },
          "metadata": {}
        }
      ]
    },
    {
      "cell_type": "code",
      "source": [
        "import shutil\n",
        "import os\n",
        "\n",
        "# List of filenames to move\n",
        "filenames = ['model_X=2.h5', 'model_X=4.h5', 'model_X=10.h5']\n",
        "\n",
        "# Specify the source and destination directories\n",
        "source_directory = '/content/'\n",
        "destination_directory = '/content/drive/MyDrive/Lab3/'\n",
        "\n",
        "# Move files\n",
        "for filename in filenames:\n",
        "    source_path = os.path.join(source_directory, filename)\n",
        "    destination_path = os.path.join(destination_directory, filename)\n",
        "    shutil.move(source_path, destination_path)\n",
        "    print(f\"Moved {filename} to {destination_directory}\")"
      ],
      "metadata": {
        "colab": {
          "base_uri": "https://localhost:8080/"
        },
        "id": "EL-sEG-OgL2q",
        "outputId": "539542eb-0ff6-469f-f748-aeada127e67c"
      },
      "execution_count": null,
      "outputs": [
        {
          "output_type": "stream",
          "name": "stdout",
          "text": [
            "Moved model_X=2.h5 to /content/drive/MyDrive/Lab3/\n",
            "Moved model_X=4.h5 to /content/drive/MyDrive/Lab3/\n",
            "Moved model_X=10.h5 to /content/drive/MyDrive/Lab3/\n"
          ]
        }
      ]
    },
    {
      "cell_type": "code",
      "source": [
        "import keras\n",
        "import h5py\n",
        "import numpy as np\n",
        "\n",
        "clean_data_filepath = '/content/drive/MyDrive/Lab3/valid.h5'\n",
        "poisoned_data_filepath = '/content/drive/MyDrive/Lab3/bd_valid.h5'\n",
        "model_filepath = '/content/drive/MyDrive/Lab3/model_X=10.h5'\n",
        "\n",
        "def data_loader(filepath):\n",
        "    data = h5py.File(filepath, 'r')\n",
        "    x_data = np.array(data['data'])\n",
        "    y_data = np.array(data['label'])\n",
        "    x_data = x_data.transpose((0, 2, 3, 1))\n",
        "\n",
        "    return x_data, y_data\n",
        "\n",
        "def main():\n",
        "    cl_x_test, cl_y_test = data_loader(clean_data_filepath)\n",
        "    bd_x_test, bd_y_test = data_loader(poisoned_data_filepath)\n",
        "\n",
        "    bd_model = keras.models.load_model(model_filepath)\n",
        "\n",
        "    cl_label_p = np.argmax(bd_model.predict(cl_x_test), axis=1)\n",
        "    clean_accuracy = np.mean(np.equal(cl_label_p, cl_y_test)) * 100\n",
        "    print('Clean Classification accuracy:', clean_accuracy)\n",
        "\n",
        "    bd_label_p = np.argmax(bd_model.predict(bd_x_test), axis=1)\n",
        "    asr = np.mean(np.equal(bd_label_p, bd_y_test)) * 100\n",
        "    print('Attack Success Rate:', asr)\n",
        "\n",
        "if __name__ == '__main__':\n",
        "    main()"
      ],
      "metadata": {
        "colab": {
          "base_uri": "https://localhost:8080/"
        },
        "id": "Jw8SNwbGhRNR",
        "outputId": "89a7688f-e70d-4df9-d33e-ddc6f77fed3e"
      },
      "execution_count": null,
      "outputs": [
        {
          "output_type": "stream",
          "name": "stderr",
          "text": [
            "WARNING:tensorflow:No training configuration found in the save file, so the model was *not* compiled. Compile it manually.\n"
          ]
        },
        {
          "output_type": "stream",
          "name": "stdout",
          "text": [
            "361/361 [==============================] - 13s 34ms/step\n",
            "Clean Classification accuracy: 84.43751623798389\n",
            "361/361 [==============================] - 11s 30ms/step\n",
            "Attack Success Rate: 77.015675067117\n"
          ]
        }
      ]
    },
    {
      "cell_type": "code",
      "source": [
        "import keras\n",
        "import h5py\n",
        "import numpy as np\n",
        "\n",
        "clean_data_filepath = '/content/drive/MyDrive/Lab3/valid.h5'\n",
        "poisoned_data_filepath = '/content/drive/MyDrive/Lab3/bd_valid.h5'\n",
        "model_filepath = '/content/drive/MyDrive/Lab3/model_X=2.h5'\n",
        "\n",
        "def data_loader(filepath):\n",
        "    data = h5py.File(filepath, 'r')\n",
        "    x_data = np.array(data['data'])\n",
        "    y_data = np.array(data['label'])\n",
        "    x_data = x_data.transpose((0, 2, 3, 1))\n",
        "\n",
        "    return x_data, y_data\n",
        "\n",
        "def main():\n",
        "    cl_x_test, cl_y_test = data_loader(clean_data_filepath)\n",
        "    bd_x_test, bd_y_test = data_loader(poisoned_data_filepath)\n",
        "\n",
        "    bd_model = keras.models.load_model(model_filepath)\n",
        "\n",
        "    cl_label_p = np.argmax(bd_model.predict(cl_x_test), axis=1)\n",
        "    clean_accuracy = np.mean(np.equal(cl_label_p, cl_y_test)) * 100\n",
        "    print('Clean Classification accuracy:', clean_accuracy)\n",
        "\n",
        "    bd_label_p = np.argmax(bd_model.predict(bd_x_test), axis=1)\n",
        "    asr = np.mean(np.equal(bd_label_p, bd_y_test)) * 100\n",
        "    print('Attack Success Rate:', asr)\n",
        "\n",
        "if __name__ == '__main__':\n",
        "    main()\n"
      ],
      "metadata": {
        "colab": {
          "base_uri": "https://localhost:8080/"
        },
        "id": "cXo3USZ5258w",
        "outputId": "6065b0df-10c0-457a-eed2-9e6721dbe467"
      },
      "execution_count": null,
      "outputs": [
        {
          "output_type": "stream",
          "name": "stderr",
          "text": [
            "WARNING:tensorflow:No training configuration found in the save file, so the model was *not* compiled. Compile it manually.\n"
          ]
        },
        {
          "output_type": "stream",
          "name": "stdout",
          "text": [
            "361/361 [==============================] - 13s 35ms/step\n",
            "Clean Classification accuracy: 95.75647354291158\n",
            "361/361 [==============================] - 13s 37ms/step\n",
            "Attack Success Rate: 100.0\n"
          ]
        }
      ]
    },
    {
      "cell_type": "code",
      "source": [
        "import keras\n",
        "import h5py\n",
        "import numpy as np\n",
        "\n",
        "clean_data_filepath = '/content/drive/MyDrive/Lab3/valid.h5'\n",
        "poisoned_data_filepath = '/content/drive/MyDrive/Lab3/bd_valid.h5'\n",
        "model_filepath = '/content/drive/MyDrive/Lab3/model_X=4.h5'\n",
        "\n",
        "def data_loader(filepath):\n",
        "    data = h5py.File(filepath, 'r')\n",
        "    x_data = np.array(data['data'])\n",
        "    y_data = np.array(data['label'])\n",
        "    x_data = x_data.transpose((0, 2, 3, 1))\n",
        "\n",
        "    return x_data, y_data\n",
        "\n",
        "def main():\n",
        "    cl_x_test, cl_y_test = data_loader(clean_data_filepath)\n",
        "    bd_x_test, bd_y_test = data_loader(poisoned_data_filepath)\n",
        "\n",
        "    bd_model = keras.models.load_model(model_filepath)\n",
        "\n",
        "    cl_label_p = np.argmax(bd_model.predict(cl_x_test), axis=1)\n",
        "    clean_accuracy = np.mean(np.equal(cl_label_p, cl_y_test)) * 100\n",
        "    print('Clean Classification accuracy:', clean_accuracy)\n",
        "\n",
        "    bd_label_p = np.argmax(bd_model.predict(bd_x_test), axis=1)\n",
        "    asr = np.mean(np.equal(bd_label_p, bd_y_test)) * 100\n",
        "    print('Attack Success Rate:', asr)\n",
        "\n",
        "if __name__ == '__main__':\n",
        "    main()\n"
      ],
      "metadata": {
        "colab": {
          "base_uri": "https://localhost:8080/"
        },
        "id": "cnpZLNEh3foJ",
        "outputId": "fed8f5ad-3bd8-4e1a-d8ea-cfcb7bbb1cd0"
      },
      "execution_count": null,
      "outputs": [
        {
          "output_type": "stream",
          "name": "stderr",
          "text": [
            "WARNING:tensorflow:No training configuration found in the save file, so the model was *not* compiled. Compile it manually.\n"
          ]
        },
        {
          "output_type": "stream",
          "name": "stdout",
          "text": [
            "361/361 [==============================] - 12s 33ms/step\n",
            "Clean Classification accuracy: 94.344851476574\n",
            "361/361 [==============================] - 11s 30ms/step\n",
            "Attack Success Rate: 99.9913397419243\n"
          ]
        }
      ]
    },
    {
      "cell_type": "code",
      "source": [],
      "metadata": {
        "id": "_582w6-23vhp"
      },
      "execution_count": null,
      "outputs": []
    }
  ]
}